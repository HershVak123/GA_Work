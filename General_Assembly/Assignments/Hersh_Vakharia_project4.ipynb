{
 "cells": [
  {
   "cell_type": "markdown",
   "metadata": {},
   "source": [
    "# Project 4\n",
    "\n",
    "In this project, you will summarize and present your analysis from Projects 1-3."
   ]
  },
  {
   "cell_type": "markdown",
   "metadata": {},
   "source": [
    "### Intro: Write a problem Statement/ Specific Aim for this project"
   ]
  },
  {
   "cell_type": "markdown",
   "metadata": {},
   "source": [
    "Answer: We want to see the relationship between GPA, GRE and the Prestige of an undergraduate school on whether a student is admitted to a graduate program.  "
   ]
  },
  {
   "cell_type": "markdown",
   "metadata": {},
   "source": [
    "### Dataset:  Write up a description of your data and any cleaning that was completed"
   ]
  },
  {
   "cell_type": "markdown",
   "metadata": {},
   "source": [
    "Answer: Our GPA is a contiuous range of numbers possibly between 0 and 4.  Our GRE is a continous range between 220 and 800.  The prestige of the undergraduate is a discrete number in buckets, either 1,2,3,4.  There were some missing variables in our data.  Since the number of observations with missing data was small we decided to drop those observations from our model.  We could have also calculated the mean of the data and put that in the missing data of the observation.  "
   ]
  },
  {
   "cell_type": "markdown",
   "metadata": {
    "collapsed": true
   },
   "source": [
    "### Demo: Provide a table that explains the data by admission status"
   ]
  },
  {
   "cell_type": "markdown",
   "metadata": {},
   "source": [
    "\n",
    "%matplotlib inline\n",
    "import matplotlib.pyplot as plt\n",
    "import pandas as pd\n",
    "import statsmodels.api as sm\n",
    "import pylab as pl\n",
    "import numpy as np\n"
   ]
  },
  {
   "cell_type": "code",
   "execution_count": 1,
   "metadata": {},
   "outputs": [
    {
     "name": "stderr",
     "output_type": "stream",
     "text": [
      "/anaconda2/lib/python2.7/site-packages/statsmodels/compat/pandas.py:56: FutureWarning: The pandas.core.datetools module is deprecated and will be removed in a future version. Please use the pandas.tseries module instead.\n",
      "  from pandas.core import datetools\n"
     ]
    }
   ],
   "source": [
    "%matplotlib inline\n",
    "import matplotlib.pyplot as plt\n",
    "import pandas as pd\n",
    "import statsmodels.api as sm\n",
    "import pylab as pl\n",
    "import numpy as np\n",
    "\n"
   ]
  },
  {
   "cell_type": "code",
   "execution_count": 2,
   "metadata": {
    "collapsed": true
   },
   "outputs": [],
   "source": [
    "df_raw = pd.read_csv(\"../assets/admissions.csv\")\n",
    "df = df_raw.dropna() "
   ]
  },
  {
   "cell_type": "markdown",
   "metadata": {},
   "source": [
    "### Methods: Write up the methods used in your analysis"
   ]
  },
  {
   "cell_type": "markdown",
   "metadata": {},
   "source": [
    "Variable | Description | Type of Variable\n",
    "---| ---| ---\n",
    "admit | 0 = not admitted, 1 = admitted | categorical\n",
    "gre | GRE score | continuous \n",
    "gpa | Grade Point Average | continuous\n",
    "prestige |rank of undergrad school with integer values 1-4 (1 = highest, 4 = lowest) | categorical"
   ]
  },
  {
   "cell_type": "markdown",
   "metadata": {},
   "source": [
    "Answer: First we explored the data. We created a data dictionary to give us an overview of our data. We used summary statistics via df.describe() to get an idea of mean, std deveation, as well as how many values were in each column. In addition, we used a correlation heatmap to see how related the data columns were to one another and determine whether we would have to omit any from our model due to colinearity. Another way we explored the data was by plotting histograms of each column to view the distribution of the data. We also used functions like value_counts() to determine the various elements of each column and their frequencies.\n",
    "\n",
    "Next, we prepared the data to be fed into the model. We cleaned the data using dropna() to get rid of any missing values in our data, so that we don't have any incomplete entries when we create our model. Also, given the nature of our categorical variable (prestige), we had to implement a dummy variable using pandas's get_dummies() function so that we didn't create any unnecessary relationship between our categories. After preparing our data, we grouped them (in my case, defiantly) into train_columns (a list of columns to be used as independent variables) that we set as our X value, and our dependent variable (admit) to y.\n",
    "\n",
    "Finally, we ran a logistic regression on the data (sm.Logit(y,X).fit().summary()) to provide coefficients for our independent variables. We then interpreted these coefficients to give us an idea on how the odds of being admitted vary given a change in any of our independent variables."
   ]
  },
  {
   "cell_type": "markdown",
   "metadata": {},
   "source": [
    "### Results: Write up your results"
   ]
  },
  {
   "cell_type": "code",
   "execution_count": 3,
   "metadata": {},
   "outputs": [
    {
     "name": "stdout",
     "output_type": "stream",
     "text": [
      "Optimization terminated successfully.\n",
      "         Current function value: 0.573854\n",
      "         Iterations 6\n"
     ]
    }
   ],
   "source": [
    "prestige_dummies = pd.get_dummies(df['prestige'], prefix='prestige')\n",
    "new_df = df[['admit','gpa','gre']].join(prestige_dummies.loc[:, 'prestige_2':])\n",
    "cols_to_keep = ['admit', 'gre', 'gpa']\n",
    "data = df[cols_to_keep].join(prestige_dummies.loc[:, 'prestige_2':])\n",
    "data['intercept'] = 1.0\n",
    "train_columns = ['gre', 'gpa', 'prestige_2.0', 'prestige_3.0', 'prestige_4.0', 'intercept']\n",
    "X = data[train_columns]\n",
    "X = sm.add_constant(X)\n",
    "y = data['admit']\n",
    "\n",
    "logit = sm.Logit(y, X).fit()"
   ]
  },
  {
   "cell_type": "code",
   "execution_count": null,
   "metadata": {},
   "outputs": [],
   "source": [
    "logit.summary()"
   ]
  },
  {
   "cell_type": "markdown",
   "metadata": {},
   "source": [
    "Answer: Looking at the coefficients' p-values, we can see that all of their p-values fall below the 0.05 threshold, meaning that they are all statistically significant (in addition their confidence intervals don't cross 0).\n",
    "\n",
    "Now looking at the coefficients themselves, we can see their impact on the odds of admission. For gre nad gpa, one point of increase yields an increase of 0.0022 and 0.7793 in the log odds of being admitted. Looking at the various prestige levels, we can generalize that for any school that is not rank 1 prestige, there is a decrease in the log odds of beign admitted (and common-sensibly, the lower the rank, the more the log odds drop). We can also look at the confidence intervals to see the range of values that these coefficients can take on.\n",
    "\n",
    "If we wanted to take this further, we could calculate the probability of acceptance for each data point and add it as another column to the dataframe. With this we could see the extent to which the odds fluctuate for a certain change."
   ]
  },
  {
   "cell_type": "markdown",
   "metadata": {},
   "source": [
    "### Visuals: Provide a table or visualization of these results"
   ]
  },
  {
   "cell_type": "code",
   "execution_count": 4,
   "metadata": {
    "collapsed": true
   },
   "outputs": [],
   "source": [
    "def cartesian(arrays, out=None):\n",
    "    arrays = [np.asarray(x) for x in arrays]\n",
    "    dtype = arrays[0].dtype\n",
    "\n",
    "    n = np.prod([x.size for x in arrays])\n",
    "    if out is None:\n",
    "        out = np.zeros([n, len(arrays)], dtype=dtype)\n",
    "\n",
    "    m = n // arrays[0].size\n",
    "    out[:,0] = np.repeat(arrays[0], m)\n",
    "    if arrays[1:]:\n",
    "        cartesian(arrays[1:], out=out[0:m,1:])\n",
    "        for j in range(1, arrays[0].size):\n",
    "            out[j*m:(j+1)*m,1:] = out[0:m,1:]\n",
    "    return out"
   ]
  },
  {
   "cell_type": "code",
   "execution_count": 5,
   "metadata": {},
   "outputs": [
    {
     "name": "stdout",
     "output_type": "stream",
     "text": [
      "[ 220.          284.44444444  348.88888889  413.33333333  477.77777778\n",
      "  542.22222222  606.66666667  671.11111111  735.55555556  800.        ]\n",
      "[ 2.26        2.45333333  2.64666667  2.84        3.03333333  3.22666667\n",
      "  3.42        3.61333333  3.80666667  4.        ]\n"
     ]
    }
   ],
   "source": [
    "gres = np.linspace(data['gre'].min(), data['gre'].max(), 10)\n",
    "print (gres)\n",
    "gpas = np.linspace(data['gpa'].min(), data['gpa'].max(), 10)\n",
    "print (gpas)\n",
    "combos = pd.DataFrame(cartesian([gres, gpas, [1, 2, 3, 4], [1.]]))"
   ]
  },
  {
   "cell_type": "code",
   "execution_count": 6,
   "metadata": {
    "scrolled": true
   },
   "outputs": [],
   "source": [
    "combos.columns = ['gre', 'gpa', 'prestige', 'intercept']\n",
    "prestige_dummies = pd.get_dummies(combos['prestige'], prefix='prestige')\n",
    "prestige_dummies.columns = ['prestige_1.0','prestige_2.0','prestige_3.0','prestige_4.0']\n",
    "\n",
    "keep_col = ['gre', 'gpa', 'prestige', 'intercept']\n",
    "combos = combos[keep_col].join(prestige_dummies.loc[:,'prestige_2.0':])"
   ]
  },
  {
   "cell_type": "code",
   "execution_count": 7,
   "metadata": {},
   "outputs": [
    {
     "data": {
      "text/html": [
       "<div>\n",
       "<style>\n",
       "    .dataframe thead tr:only-child th {\n",
       "        text-align: right;\n",
       "    }\n",
       "\n",
       "    .dataframe thead th {\n",
       "        text-align: left;\n",
       "    }\n",
       "\n",
       "    .dataframe tbody tr th {\n",
       "        vertical-align: top;\n",
       "    }\n",
       "</style>\n",
       "<table border=\"1\" class=\"dataframe\">\n",
       "  <thead>\n",
       "    <tr style=\"text-align: right;\">\n",
       "      <th></th>\n",
       "      <th>gre</th>\n",
       "      <th>gpa</th>\n",
       "      <th>prestige</th>\n",
       "      <th>intercept</th>\n",
       "      <th>prestige_2.0</th>\n",
       "      <th>prestige_3.0</th>\n",
       "      <th>prestige_4.0</th>\n",
       "      <th>predicted_prob</th>\n",
       "    </tr>\n",
       "  </thead>\n",
       "  <tbody>\n",
       "    <tr>\n",
       "      <th>0</th>\n",
       "      <td>220.0</td>\n",
       "      <td>2.260000</td>\n",
       "      <td>1.0</td>\n",
       "      <td>1.0</td>\n",
       "      <td>0</td>\n",
       "      <td>0</td>\n",
       "      <td>0</td>\n",
       "      <td>0.164173</td>\n",
       "    </tr>\n",
       "    <tr>\n",
       "      <th>1</th>\n",
       "      <td>220.0</td>\n",
       "      <td>2.260000</td>\n",
       "      <td>2.0</td>\n",
       "      <td>1.0</td>\n",
       "      <td>1</td>\n",
       "      <td>0</td>\n",
       "      <td>0</td>\n",
       "      <td>0.090492</td>\n",
       "    </tr>\n",
       "    <tr>\n",
       "      <th>2</th>\n",
       "      <td>220.0</td>\n",
       "      <td>2.260000</td>\n",
       "      <td>3.0</td>\n",
       "      <td>1.0</td>\n",
       "      <td>0</td>\n",
       "      <td>1</td>\n",
       "      <td>0</td>\n",
       "      <td>0.048977</td>\n",
       "    </tr>\n",
       "    <tr>\n",
       "      <th>3</th>\n",
       "      <td>220.0</td>\n",
       "      <td>2.260000</td>\n",
       "      <td>4.0</td>\n",
       "      <td>1.0</td>\n",
       "      <td>0</td>\n",
       "      <td>0</td>\n",
       "      <td>1</td>\n",
       "      <td>0.039890</td>\n",
       "    </tr>\n",
       "    <tr>\n",
       "      <th>4</th>\n",
       "      <td>220.0</td>\n",
       "      <td>2.453333</td>\n",
       "      <td>1.0</td>\n",
       "      <td>1.0</td>\n",
       "      <td>0</td>\n",
       "      <td>0</td>\n",
       "      <td>0</td>\n",
       "      <td>0.185907</td>\n",
       "    </tr>\n",
       "  </tbody>\n",
       "</table>\n",
       "</div>"
      ],
      "text/plain": [
       "     gre       gpa  prestige  intercept  prestige_2.0  prestige_3.0  \\\n",
       "0  220.0  2.260000       1.0        1.0             0             0   \n",
       "1  220.0  2.260000       2.0        1.0             1             0   \n",
       "2  220.0  2.260000       3.0        1.0             0             1   \n",
       "3  220.0  2.260000       4.0        1.0             0             0   \n",
       "4  220.0  2.453333       1.0        1.0             0             0   \n",
       "\n",
       "   prestige_4.0  predicted_prob  \n",
       "0             0        0.164173  \n",
       "1             0        0.090492  \n",
       "2             0        0.048977  \n",
       "3             1        0.039890  \n",
       "4             0        0.185907  "
      ]
     },
     "execution_count": 7,
     "metadata": {},
     "output_type": "execute_result"
    }
   ],
   "source": [
    "combos['predicted_prob'] = logit.predict(combos[train_columns])\n",
    "combos.head()"
   ]
  },
  {
   "cell_type": "code",
   "execution_count": 11,
   "metadata": {},
   "outputs": [],
   "source": [
    "p1_plot = combos.loc[combos['prestige']==1.0][['predicted_prob','gre','prestige']]\n",
    "p1_gre_plot = p1_plot.groupby(['gre'])[['gre','predicted_prob']].mean()\n",
    "p1_y = p1_gre_plot['predicted_prob']\n",
    "p1_x = p1_gre_plot[['gre']]\n",
    "\n",
    "p2_plot = combos.loc[combos['prestige']==2.0][['predicted_prob', 'gre', 'prestige']]\n",
    "p2_gre_plot = p2_plot.groupby(['gre'])[['gre', 'predicted_prob']].mean()\n",
    "p2_y = p2_gre_plot['predicted_prob']\n",
    "p2_x = p2_gre_plot[['gre']]\n",
    "\n",
    "p3_plot = combos.loc[combos['prestige'] == 3.0][['predicted_prob', 'gre', 'prestige']]\n",
    "p3_gre_plot = p3_plot.groupby(['gre'])[['gre', 'predicted_prob']].mean()\n",
    "p3_y = p3_gre_plot['predicted_prob']\n",
    "p3_x = p3_gre_plot[['gre']]\n",
    "\n",
    "p4_plot = combos.loc[combos['prestige']== 4.0][['predicted_prob', 'gre', 'prestige']]\n",
    "p4_gre_plot = p4_plot.groupby(['gre'])[['gre', 'predicted_prob']].mean()\n",
    "p4_y = p4_gre_plot['predicted_prob']\n",
    "p4_x = p4_gre_plot[['gre']]"
   ]
  },
  {
   "cell_type": "code",
   "execution_count": 14,
   "metadata": {},
   "outputs": [
    {
     "data": {
      "text/html": [
       "<div>\n",
       "<style>\n",
       "    .dataframe thead tr:only-child th {\n",
       "        text-align: right;\n",
       "    }\n",
       "\n",
       "    .dataframe thead th {\n",
       "        text-align: left;\n",
       "    }\n",
       "\n",
       "    .dataframe tbody tr th {\n",
       "        vertical-align: top;\n",
       "    }\n",
       "</style>\n",
       "<table border=\"1\" class=\"dataframe\">\n",
       "  <thead>\n",
       "    <tr style=\"text-align: right;\">\n",
       "      <th></th>\n",
       "      <th>gre</th>\n",
       "      <th>predicted_prob</th>\n",
       "    </tr>\n",
       "    <tr>\n",
       "      <th>gre</th>\n",
       "      <th></th>\n",
       "      <th></th>\n",
       "    </tr>\n",
       "  </thead>\n",
       "  <tbody>\n",
       "    <tr>\n",
       "      <th>220.000000</th>\n",
       "      <td>220.000000</td>\n",
       "      <td>0.081236</td>\n",
       "    </tr>\n",
       "    <tr>\n",
       "      <th>284.444444</th>\n",
       "      <td>284.444444</td>\n",
       "      <td>0.092395</td>\n",
       "    </tr>\n",
       "    <tr>\n",
       "      <th>348.888889</th>\n",
       "      <td>348.888889</td>\n",
       "      <td>0.104888</td>\n",
       "    </tr>\n",
       "    <tr>\n",
       "      <th>413.333333</th>\n",
       "      <td>413.333333</td>\n",
       "      <td>0.118822</td>\n",
       "    </tr>\n",
       "    <tr>\n",
       "      <th>477.777778</th>\n",
       "      <td>477.777778</td>\n",
       "      <td>0.134297</td>\n",
       "    </tr>\n",
       "  </tbody>\n",
       "</table>\n",
       "</div>"
      ],
      "text/plain": [
       "                   gre  predicted_prob\n",
       "gre                                   \n",
       "220.000000  220.000000        0.081236\n",
       "284.444444  284.444444        0.092395\n",
       "348.888889  348.888889        0.104888\n",
       "413.333333  413.333333        0.118822\n",
       "477.777778  477.777778        0.134297"
      ]
     },
     "execution_count": 14,
     "metadata": {},
     "output_type": "execute_result"
    }
   ],
   "source": []
  },
  {
   "cell_type": "code",
   "execution_count": 15,
   "metadata": {},
   "outputs": [
    {
     "data": {
      "text/plain": [
       "<matplotlib.legend.Legend at 0x118d8d990>"
      ]
     },
     "execution_count": 15,
     "metadata": {},
     "output_type": "execute_result"
    },
    {
     "data": {
      "image/png": "[encoded data removed]",
      "text/plain": [
       "<matplotlib.figure.Figure at 0x118b86210>"
      ]
     },
     "metadata": {},
     "output_type": "display_data"
    }
   ],
   "source": [
    "plt.plot(p1_x, p1_y)\n",
    "plt.plot(p2_x, p2_y)\n",
    "plt.plot(p3_x, p3_y)\n",
    "plt.plot(p4_x, p4_y)\n",
    "\n",
    "plt.ylabel('Predicted Prob. of Admission')\n",
    "plt.xlabel('GRE score')\n",
    "plt.legend(['presitge_1', 'prestige_2', 'prestige_3', 'prestige_4'])"
   ]
  },
  {
   "cell_type": "markdown",
   "metadata": {},
   "source": [
    "We can see that while the predicted prob. of admission does go up as gre score goes up, there are large jumps in probability between prestige 1 and 2 schools, as well as between prestige 2 and 3 schools. However, between prestige 3 and 4 schools, the jump is not nearly as high, and makes a less significant difference.\n",
    "\n",
    "We can do the same visualization for gpa and perhaps find something similar."
   ]
  },
  {
   "cell_type": "markdown",
   "metadata": {},
   "source": [
    "### Discussion: Write up your discussion and future steps"
   ]
  },
  {
   "cell_type": "markdown",
   "metadata": {},
   "source": [
    "Answer: While this model is all fine and dandy, we didn't really implement ways of testing it (such as ROC/AUC scores). We also have been using the entire data set to train this model, so it's possible it may show overfitting when confronting new, unseen data. Perhaps the next step is to do cross-validation to better train the model and see the mean error between all the folds.\n",
    "\n",
    "In addition we could also implement a different type of algoritm, like KNN. It's possible that there is clustering between the admitted data points and non admitted data points in n-dimensional space. As such, we can try to implement KNN to find if there is a way to partition the data in such way.\n",
    "\n",
    "One more thing we could try is finding more comprehensive data. My ground truth tells me that there are more variables that, if added, can further enhance the accuracy of our model. While gpa, gre score, and prestige offer a lot of explanatory value, there may be other factors, like extra-curricular activities, that can explain \"outlier\" cases."
   ]
  },
  {
   "cell_type": "code",
   "execution_count": null,
   "metadata": {
    "collapsed": true
   },
   "outputs": [],
   "source": []
  }
 ],
 "metadata": {
  "anaconda-cloud": {},
  "kernelspec": {
   "display_name": "Python 2",
   "language": "python",
   "name": "python2"
  },
  "language_info": {
   "codemirror_mode": {
    "name": "ipython",
    "version": 2
   },
   "file_extension": ".py",
   "mimetype": "text/x-python",
   "name": "python",
   "nbconvert_exporter": "python",
   "pygments_lexer": "ipython2",
   "version": "2.7.14"
  }
 },
 "nbformat": 4,
 "nbformat_minor": 1
}
