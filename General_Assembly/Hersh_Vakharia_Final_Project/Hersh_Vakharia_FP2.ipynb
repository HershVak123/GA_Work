{
 "cells": [
  {
   "cell_type": "markdown",
   "metadata": {},
   "source": [
    "## Project Problem and Hypothesis"
   ]
  },
  {
   "cell_type": "markdown",
   "metadata": {},
   "source": [
    "For my project, I am looking to look at health inspection data for restaurants in the Chicago area. I am attempting to group the data along zip code to figure out which areas of Chicago have the highest rate of inspection failure for license inspections amoing risk-1 (highest risk) category restaurants.\n",
    "\n",
    "This could have some benefit to health inspectors in the Chicago area by informing them of areas that are more likely at risk for violations. They could use this information to prioritize inspecting new restaurants that open up in these areas."
   ]
  },
  {
   "cell_type": "markdown",
   "metadata": {},
   "source": [
    "Hypothesis: The area where the restaurant is (whether zipcode or lititude/longitude data) will have a significant contribution to whether or not the restaurant will have a violation."
   ]
  },
  {
   "cell_type": "markdown",
   "metadata": {},
   "source": [
    "## Datasets"
   ]
  },
  {
   "cell_type": "markdown",
   "metadata": {},
   "source": [
    "Table:\n",
    "\n",
    "Variable | Description | Type of Variable\n",
    "--- | --- | ---\n",
    "Inspection ID | The Inpsection ID related to a specific inspection | Categorical\n",
    "DBA Name | Official Name of resrtaurant | Categorical\n",
    "AKA Name | Other ways of referring to restaurant | Categorical\n",
    "License # | Restaurant license number | Categorical\n",
    "Facility Type | what type of food-selling place the establishment is | Categorical\n",
    "Risk | risk level of establishment (Risk 1-3 where 1 is highest risk) | Categorical\n",
    "Address | Where the establishment is located | Categorical\n",
    "City | Chicago for all | Categorical\n",
    "State | Illinois for all | Categorical\n",
    "Zip | Zip code of establishment | Categorical\n",
    "Inspection Date | When the inspection took place | Categorical\n",
    "Inspection type | The reason for inspection | Categorical\n",
    "Results | Outcome of inspection | Categorical\n",
    "Violations | What violations were found during inspection | Categorical\n",
    "Latitude | The latitude value of the establishment | Continuous\n",
    "Longitutde | The longitude value of the establishment | Continuous\n",
    "Location | Both the latitude and longitude values of the establishment | Continuous"
   ]
  },
  {
   "cell_type": "markdown",
   "metadata": {},
   "source": [
    "## Domain Knowledge"
   ]
  },
  {
   "cell_type": "markdown",
   "metadata": {},
   "source": [
    "In regards to this dataset, data.cityofcihcago.org/Health-Human_services/Food-Inspections-Dashboard/2bnm-jnvb does have some analysis of this data as well as plots of various categories, but as for my specific question, the data visuals do not go that deep."
   ]
  },
  {
   "cell_type": "markdown",
   "metadata": {},
   "source": [
    "## Project Concerns"
   ]
  },
  {
   "cell_type": "markdown",
   "metadata": {},
   "source": [
    "One of my biggest concerns while looking at the data is how a lot of the columns are categorical and have a lot of different categories. I am afraid that when doing logistic regression, that I may have too many dependent variables if I have to create dummy variables for some of these columns.\n",
    "\n",
    "Another caveat I think may exist is that it is quite likely that there may be other factors that do not exist in this dataset that could more reasonab ly explain the relationship of violations to restaurants in the Chicago area."
   ]
  },
  {
   "cell_type": "markdown",
   "metadata": {},
   "source": [
    "## Outcomes"
   ]
  },
  {
   "cell_type": "markdown",
   "metadata": {},
   "source": [
    "My expectations for output are that I the zipcodes (in dummy variable form) will explain a reasonable amount of the violation outcomes for restaurants. Also, since I plan on visualizing the data on map of some osrts, i expect there to be some sort of clusters among restaurants. If that happens the project can be considered a success. "
   ]
  },
  {
   "cell_type": "code",
   "execution_count": null,
   "metadata": {
    "collapsed": true
   },
   "outputs": [],
   "source": []
  }
 ],
 "metadata": {
  "kernelspec": {
   "display_name": "Python 2",
   "language": "python",
   "name": "python2"
  },
  "language_info": {
   "codemirror_mode": {
    "name": "ipython",
    "version": 2
   },
   "file_extension": ".py",
   "mimetype": "text/x-python",
   "name": "python",
   "nbconvert_exporter": "python",
   "pygments_lexer": "ipython2",
   "version": "2.7.14"
  }
 },
 "nbformat": 4,
 "nbformat_minor": 2
}
