{
 "cells": [
  {
   "cell_type": "markdown",
   "metadata": {},
   "source": [
    "## Lambda functions\n",
    "\n",
    "When working with data we often need to categorize our data differently, create new variables and do transformations on existing variables. Lambda functions make these types of transformations quick! \n",
    "\n",
    "Objectives of this lab: \n",
    "1. Intro you to lambda functions\n",
    "2. Extra practice working with dataframes and transforming our data\n",
    "3. Bonus! intro you to datetypes and datedeltas\n",
    "\n",
    "Data set:   \n",
    "The dataset comes from CouncilStat, which is used by many NYC Council district offices to enter and track constituent cases that can range from issues around affordable housing, to potholes and pedestrian safety. This dataset aggregates the information that individual staff have input. However, district staffs handle a wide range of complex issues. Each offices uses the program differently, and thus records cases, differently and so comparisons between accounts may be difficult. Not all offices use the program. For more info - http://labs.council.nyc/districts/data/"
   ]
  },
  {
   "cell_type": "markdown",
   "metadata": {},
   "source": [
    "## Let's get started!\n",
    "#### Import our libraries and our data"
   ]
  },
  {
   "cell_type": "code",
   "execution_count": 1,
   "metadata": {
    "collapsed": true
   },
   "outputs": [],
   "source": [
    "import pandas as pd\n",
    "import numpy as np\n",
    "\n",
    "df = pd.read_csv(\"https://data.cityofnewyork.us/api/views/edai-dig6/rows.csv?accessType=DOWNLOAD&bom=true&query=select+*\")"
   ]
  },
  {
   "cell_type": "markdown",
   "metadata": {},
   "source": [
    "#### Let's get to know our data a bit"
   ]
  },
  {
   "cell_type": "code",
   "execution_count": 2,
   "metadata": {},
   "outputs": [
    {
     "data": {
      "text/html": [
       "<div>\n",
       "<style>\n",
       "    .dataframe thead tr:only-child th {\n",
       "        text-align: right;\n",
       "    }\n",
       "\n",
       "    .dataframe thead th {\n",
       "        text-align: left;\n",
       "    }\n",
       "\n",
       "    .dataframe tbody tr th {\n",
       "        vertical-align: top;\n",
       "    }\n",
       "</style>\n",
       "<table border=\"1\" class=\"dataframe\">\n",
       "  <thead>\n",
       "    <tr style=\"text-align: right;\">\n",
       "      <th></th>\n",
       "      <th>UNIQUE_KEY</th>\n",
       "      <th>ACCOUNT</th>\n",
       "      <th>OPENDATE</th>\n",
       "      <th>COMPLAINT_TYPE</th>\n",
       "      <th>DESCRIPTOR</th>\n",
       "      <th>ZIP</th>\n",
       "      <th>BOROUGH</th>\n",
       "      <th>CITY</th>\n",
       "      <th>COUNCIL_DIST</th>\n",
       "      <th>COMMUNITY_BOARD</th>\n",
       "      <th>CLOSEDATE</th>\n",
       "    </tr>\n",
       "  </thead>\n",
       "  <tbody>\n",
       "    <tr>\n",
       "      <th>0</th>\n",
       "      <td>NYCC44518150</td>\n",
       "      <td>NYCC44</td>\n",
       "      <td>05/03/2016</td>\n",
       "      <td>Transportation</td>\n",
       "      <td>Taxi Fare Complaint</td>\n",
       "      <td>11230</td>\n",
       "      <td>Brooklyn</td>\n",
       "      <td>Brooklyn</td>\n",
       "      <td>NYCC44</td>\n",
       "      <td>12 Brooklyn</td>\n",
       "      <td>05/06/2016</td>\n",
       "    </tr>\n",
       "    <tr>\n",
       "      <th>1</th>\n",
       "      <td>NYCC18502037</td>\n",
       "      <td>NYCC18</td>\n",
       "      <td>11/07/2016</td>\n",
       "      <td>Housing and Buildings</td>\n",
       "      <td>NYCHA Misc.</td>\n",
       "      <td>10472</td>\n",
       "      <td>Bronx</td>\n",
       "      <td>Bronx</td>\n",
       "      <td>NYCC18</td>\n",
       "      <td>09 Bronx</td>\n",
       "      <td>11/07/2016</td>\n",
       "    </tr>\n",
       "    <tr>\n",
       "      <th>2</th>\n",
       "      <td>NYCC38507613</td>\n",
       "      <td>NYCC38</td>\n",
       "      <td>05/05/2016</td>\n",
       "      <td>General Welfare</td>\n",
       "      <td>Child Abuse or Neglect</td>\n",
       "      <td>NaN</td>\n",
       "      <td>Brooklyn</td>\n",
       "      <td>Brooklyn</td>\n",
       "      <td>NaN</td>\n",
       "      <td>NaN</td>\n",
       "      <td>05/05/2016</td>\n",
       "    </tr>\n",
       "    <tr>\n",
       "      <th>3</th>\n",
       "      <td>NYCC31503037</td>\n",
       "      <td>NYCC31</td>\n",
       "      <td>11/23/2017</td>\n",
       "      <td>Youth Services</td>\n",
       "      <td>NaN</td>\n",
       "      <td>11413</td>\n",
       "      <td>NaN</td>\n",
       "      <td>Springfield Gardens</td>\n",
       "      <td>NYCC</td>\n",
       "      <td></td>\n",
       "      <td>NaN</td>\n",
       "    </tr>\n",
       "    <tr>\n",
       "      <th>4</th>\n",
       "      <td>NYCC40511790</td>\n",
       "      <td>NYCC40</td>\n",
       "      <td>11/07/2016</td>\n",
       "      <td>NaN</td>\n",
       "      <td>NaN</td>\n",
       "      <td>NaN</td>\n",
       "      <td>NaN</td>\n",
       "      <td>New York</td>\n",
       "      <td>NaN</td>\n",
       "      <td></td>\n",
       "      <td>NaN</td>\n",
       "    </tr>\n",
       "  </tbody>\n",
       "</table>\n",
       "</div>"
      ],
      "text/plain": [
       "     UNIQUE_KEY ACCOUNT    OPENDATE         COMPLAINT_TYPE  \\\n",
       "0  NYCC44518150  NYCC44  05/03/2016         Transportation   \n",
       "1  NYCC18502037  NYCC18  11/07/2016  Housing and Buildings   \n",
       "2  NYCC38507613  NYCC38  05/05/2016        General Welfare   \n",
       "3  NYCC31503037  NYCC31  11/23/2017         Youth Services   \n",
       "4  NYCC40511790  NYCC40  11/07/2016                    NaN   \n",
       "\n",
       "               DESCRIPTOR    ZIP   BOROUGH                 CITY COUNCIL_DIST  \\\n",
       "0     Taxi Fare Complaint  11230  Brooklyn             Brooklyn       NYCC44   \n",
       "1             NYCHA Misc.  10472     Bronx                Bronx       NYCC18   \n",
       "2  Child Abuse or Neglect    NaN  Brooklyn             Brooklyn          NaN   \n",
       "3                     NaN  11413       NaN  Springfield Gardens         NYCC   \n",
       "4                     NaN    NaN       NaN             New York          NaN   \n",
       "\n",
       "  COMMUNITY_BOARD   CLOSEDATE  \n",
       "0     12 Brooklyn  05/06/2016  \n",
       "1        09 Bronx  11/07/2016  \n",
       "2             NaN  05/05/2016  \n",
       "3                         NaN  \n",
       "4                         NaN  "
      ]
     },
     "execution_count": 2,
     "metadata": {},
     "output_type": "execute_result"
    }
   ],
   "source": [
    "df.head()"
   ]
  },
  {
   "cell_type": "markdown",
   "metadata": {},
   "source": [
    "#### How many observations/rows are in our data? "
   ]
  },
  {
   "cell_type": "code",
   "execution_count": 3,
   "metadata": {},
   "outputs": [
    {
     "data": {
      "text/plain": [
       "(190634, 11)"
      ]
     },
     "execution_count": 3,
     "metadata": {},
     "output_type": "execute_result"
    }
   ],
   "source": [
    "df.shape"
   ]
  },
  {
   "cell_type": "markdown",
   "metadata": {},
   "source": [
    "#### We have 190,634 observations and 11 columns/variables. What are the variables? "
   ]
  },
  {
   "cell_type": "code",
   "execution_count": 4,
   "metadata": {},
   "outputs": [
    {
     "data": {
      "text/plain": [
       "Index([u'UNIQUE_KEY', u'ACCOUNT', u'OPENDATE', u'COMPLAINT_TYPE',\n",
       "       u'DESCRIPTOR', u'ZIP', u'BOROUGH', u'CITY', u'COUNCIL_DIST',\n",
       "       u'COMMUNITY_BOARD', u'CLOSEDATE'],\n",
       "      dtype='object')"
      ]
     },
     "execution_count": 4,
     "metadata": {},
     "output_type": "execute_result"
    }
   ],
   "source": [
    "df.columns"
   ]
  },
  {
   "cell_type": "markdown",
   "metadata": {},
   "source": [
    "#### Great! Let's take a look at one of them \"COMPLAINT_TYPE\""
   ]
  },
  {
   "cell_type": "code",
   "execution_count": 5,
   "metadata": {},
   "outputs": [
    {
     "data": {
      "text/plain": [
       "0           Transportation\n",
       "1    Housing and Buildings\n",
       "2          General Welfare\n",
       "3           Youth Services\n",
       "4                      NaN\n",
       "Name: COMPLAINT_TYPE, dtype: object"
      ]
     },
     "execution_count": 5,
     "metadata": {},
     "output_type": "execute_result"
    }
   ],
   "source": [
    "df[\"COMPLAINT_TYPE\"].head(5)"
   ]
  },
  {
   "cell_type": "code",
   "execution_count": 6,
   "metadata": {},
   "outputs": [
    {
     "data": {
      "text/plain": [
       "array(['Transportation', 'Housing and Buildings', 'General Welfare',\n",
       "       'Youth Services', nan, 'Immigration', 'Finance',\n",
       "       'Land Use and Zoning', 'Economy/Jobs', 'Consumer Affairs',\n",
       "       'Cultural Affairs', 'Utilities', 'Sanitation', 'Education',\n",
       "       'Governmental Operations', 'Legal Services', 'Parks',\n",
       "       'Quality of Life', 'Environment', 'Public Safety', 'Health',\n",
       "       'Aging', 'Human and Civil Rights', 'Civil Service and Labor',\n",
       "       'Recovery and Resiliency', 'Consumer Complaints',\n",
       "       'Veterans Affairs', 'NYPD - NEW YORK POLICE DE',\n",
       "       'CITY CONSTRUCTION', 'CONTRACTS', 'OVERSIGHT AND INVESTIGATI',\n",
       "       'Land Use', 'DOCUMENTATION', 'Select One', 'PENSION FORMS',\n",
       "       'Government', 'JURY DUTY', 'Please choose an issue...', 'MEETING',\n",
       "       'SPAM MAIL', 'SCRIE', 'DISPLACEMENT', 'PATRIOTISM', 'NYCHA', 'DWI',\n",
       "       'DHS', 'EVNT', 'O AND I REQ', 'INT REQ',\n",
       "       '@getxlate.udf_code_genera', '@getxlate.Udf_Code_Genera',\n",
       "       'CRIMINAL JUSTICE', 'FIRE AND EMERGENCY MANAGE'], dtype=object)"
      ]
     },
     "execution_count": 6,
     "metadata": {},
     "output_type": "execute_result"
    }
   ],
   "source": [
    "df[\"COMPLAINT_TYPE\"].unique()"
   ]
  },
  {
   "cell_type": "markdown",
   "metadata": {},
   "source": [
    "#### Hmmm... some of these categories are in sentence case and some are in all caps. Let's clean this up a bit. \n",
    "One way to do this is write a named function (below it's called upper) to transform all the names to uppercase. That paired with .apply ([check out the docs here](href=https://pandas.pydata.org/pandas-docs/stable/generated/pandas.DataFrame.apply.html) which allows us to \"apply\" a function to every row in our dataframe, allows us to transform our data. Let's give it try"
   ]
  },
  {
   "cell_type": "code",
   "execution_count": 7,
   "metadata": {
    "collapsed": true
   },
   "outputs": [],
   "source": [
    "#Example of a normal function that turns a string in lower/sentence case to upper case \n",
    "def upper(x):\n",
    "    return str(x).upper()\n",
    "\n",
    "df[\"COMPLAINT_TYPE\"] = df[\"COMPLAINT_TYPE\"].apply(upper)"
   ]
  },
  {
   "cell_type": "code",
   "execution_count": 8,
   "metadata": {},
   "outputs": [
    {
     "data": {
      "text/plain": [
       "array(['TRANSPORTATION', 'HOUSING AND BUILDINGS', 'GENERAL WELFARE',\n",
       "       'YOUTH SERVICES', 'NAN', 'IMMIGRATION', 'FINANCE',\n",
       "       'LAND USE AND ZONING', 'ECONOMY/JOBS', 'CONSUMER AFFAIRS',\n",
       "       'CULTURAL AFFAIRS', 'UTILITIES', 'SANITATION', 'EDUCATION',\n",
       "       'GOVERNMENTAL OPERATIONS', 'LEGAL SERVICES', 'PARKS',\n",
       "       'QUALITY OF LIFE', 'ENVIRONMENT', 'PUBLIC SAFETY', 'HEALTH',\n",
       "       'AGING', 'HUMAN AND CIVIL RIGHTS', 'CIVIL SERVICE AND LABOR',\n",
       "       'RECOVERY AND RESILIENCY', 'CONSUMER COMPLAINTS',\n",
       "       'VETERANS AFFAIRS', 'NYPD - NEW YORK POLICE DE',\n",
       "       'CITY CONSTRUCTION', 'CONTRACTS', 'OVERSIGHT AND INVESTIGATI',\n",
       "       'LAND USE', 'DOCUMENTATION', 'SELECT ONE', 'PENSION FORMS',\n",
       "       'GOVERNMENT', 'JURY DUTY', 'PLEASE CHOOSE AN ISSUE...', 'MEETING',\n",
       "       'SPAM MAIL', 'SCRIE', 'DISPLACEMENT', 'PATRIOTISM', 'NYCHA', 'DWI',\n",
       "       'DHS', 'EVNT', 'O AND I REQ', 'INT REQ',\n",
       "       '@GETXLATE.UDF_CODE_GENERA', 'CRIMINAL JUSTICE',\n",
       "       'FIRE AND EMERGENCY MANAGE'], dtype=object)"
      ]
     },
     "execution_count": 8,
     "metadata": {},
     "output_type": "execute_result"
    }
   ],
   "source": [
    "#Check to ensure the function worked. Yes!\n",
    "df[\"COMPLAINT_TYPE\"].unique()"
   ]
  },
  {
   "cell_type": "markdown",
   "metadata": {},
   "source": [
    "#### A lambda function (or an anonymous or unnamed function) can do the same thing BUT is faster to type and handy for quick changes"
   ]
  },
  {
   "cell_type": "code",
   "execution_count": 10,
   "metadata": {
    "collapsed": true
   },
   "outputs": [],
   "source": [
    "#Example of a lambda function, e.g., do the same thing in one line (this time lower case)\n",
    "df[\"COMPLAINT_TYPE_LOWER\"] = df[\"COMPLAINT_TYPE\"].apply(lambda x: str(x).lower())"
   ]
  },
  {
   "cell_type": "markdown",
   "metadata": {},
   "source": [
    "#### Let's walk through this by comparing it to our function \"upper\" above\n",
    "\n",
    "Starting with **lambda x: str(x).lower()**\n",
    "\n",
    "lambda indicates we're using a lambda function x is our we're going to refer to our parameter in this case. It's equivalent to x in our upper function above. Just like in a regular function you can all this whatever you want.\n",
    "\n",
    "str(x).lower() is equivalent to \"return str(x).upper()\" in the upper function. \n",
    "\n",
    "the rest .apply etc. allows us to apply the function to each row and create a new column called \"COMPLAINT_TYPE_LOWER\""
   ]
  },
  {
   "cell_type": "code",
   "execution_count": 11,
   "metadata": {},
   "outputs": [
    {
     "data": {
      "text/html": [
       "<div>\n",
       "<style>\n",
       "    .dataframe thead tr:only-child th {\n",
       "        text-align: right;\n",
       "    }\n",
       "\n",
       "    .dataframe thead th {\n",
       "        text-align: left;\n",
       "    }\n",
       "\n",
       "    .dataframe tbody tr th {\n",
       "        vertical-align: top;\n",
       "    }\n",
       "</style>\n",
       "<table border=\"1\" class=\"dataframe\">\n",
       "  <thead>\n",
       "    <tr style=\"text-align: right;\">\n",
       "      <th></th>\n",
       "      <th>COMPLAINT_TYPE</th>\n",
       "      <th>COMPLAINT_TYPE_LOWER</th>\n",
       "    </tr>\n",
       "  </thead>\n",
       "  <tbody>\n",
       "    <tr>\n",
       "      <th>0</th>\n",
       "      <td>TRANSPORTATION</td>\n",
       "      <td>transportation</td>\n",
       "    </tr>\n",
       "    <tr>\n",
       "      <th>1</th>\n",
       "      <td>HOUSING AND BUILDINGS</td>\n",
       "      <td>housing and buildings</td>\n",
       "    </tr>\n",
       "    <tr>\n",
       "      <th>2</th>\n",
       "      <td>GENERAL WELFARE</td>\n",
       "      <td>general welfare</td>\n",
       "    </tr>\n",
       "    <tr>\n",
       "      <th>3</th>\n",
       "      <td>YOUTH SERVICES</td>\n",
       "      <td>youth services</td>\n",
       "    </tr>\n",
       "    <tr>\n",
       "      <th>4</th>\n",
       "      <td>NAN</td>\n",
       "      <td>nan</td>\n",
       "    </tr>\n",
       "  </tbody>\n",
       "</table>\n",
       "</div>"
      ],
      "text/plain": [
       "          COMPLAINT_TYPE   COMPLAINT_TYPE_LOWER\n",
       "0         TRANSPORTATION         transportation\n",
       "1  HOUSING AND BUILDINGS  housing and buildings\n",
       "2        GENERAL WELFARE        general welfare\n",
       "3         YOUTH SERVICES         youth services\n",
       "4                    NAN                    nan"
      ]
     },
     "execution_count": 11,
     "metadata": {},
     "output_type": "execute_result"
    }
   ],
   "source": [
    "#Check to ensure the function worked. Yes!\n",
    "df[[\"COMPLAINT_TYPE\", \"COMPLAINT_TYPE_LOWER\"]].head(5)"
   ]
  },
  {
   "cell_type": "markdown",
   "metadata": {},
   "source": [
    "#### Try writing a lambda function that changes the values in City to uppercase"
   ]
  },
  {
   "cell_type": "code",
   "execution_count": 11,
   "metadata": {},
   "outputs": [
    {
     "data": {
      "text/plain": [
       "0               Brooklyn\n",
       "1                  Bronx\n",
       "2               Brooklyn\n",
       "3    Springfield Gardens\n",
       "4               New York\n",
       "5               Brooklyn\n",
       "6               Elmhurst\n",
       "7               New York\n",
       "8                    NaN\n",
       "9               New York\n",
       "Name: CITY, dtype: object"
      ]
     },
     "execution_count": 11,
     "metadata": {},
     "output_type": "execute_result"
    }
   ],
   "source": [
    "df[\"CITY\"].head(10)"
   ]
  },
  {
   "cell_type": "code",
   "execution_count": 12,
   "metadata": {
    "collapsed": true
   },
   "outputs": [],
   "source": [
    "#write your function here\n",
    "\n",
    "df[\"CITY\"] = df[\"CITY\"].apply(lambda x: str(x).upper())\n"
   ]
  },
  {
   "cell_type": "code",
   "execution_count": 13,
   "metadata": {},
   "outputs": [
    {
     "data": {
      "text/plain": [
       "0               BROOKLYN\n",
       "1                  BRONX\n",
       "2               BROOKLYN\n",
       "3    SPRINGFIELD GARDENS\n",
       "4               NEW YORK\n",
       "5                  10304\n",
       "6               BROOKLYN\n",
       "7               ELMHURST\n",
       "8               NEW YORK\n",
       "9                    NAN\n",
       "Name: CITY, dtype: object"
      ]
     },
     "execution_count": 13,
     "metadata": {},
     "output_type": "execute_result"
    }
   ],
   "source": [
    "#check our work\n",
    "df[\"CITY\"].head(10)"
   ]
  },
  {
   "cell_type": "markdown",
   "metadata": {},
   "source": [
    "### Great! Let's try it with another function\n",
    "Now let's use lambda to convert OPENDATE and CLOSEDDATE to \"datetime\" objects\n",
    "\n",
    "\n",
    "##### This is how you would convert a column to a \"datetime\" object normally. Let's try it\n",
    "df[\"OPENDATE\"] = pd.to_datetime(df[\"OPENDATE\"])"
   ]
  },
  {
   "cell_type": "code",
   "execution_count": 14,
   "metadata": {},
   "outputs": [
    {
     "name": "stdout",
     "output_type": "stream",
     "text": [
      "Starting type: object\n",
      "After conversion type: datetime64[ns]\n"
     ]
    }
   ],
   "source": [
    "# note this takes a little while to run\n",
    "print \"Starting type:\", df[\"OPENDATE\"].dtype\n",
    "df[\"OPENDATE\"] = pd.to_datetime(df[\"OPENDATE\"])\n",
    "print \"After conversion type:\", df[\"OPENDATE\"].dtype"
   ]
  },
  {
   "cell_type": "markdown",
   "metadata": {},
   "source": [
    "#### How would you do it with a lambda function on CLOSEDATE?"
   ]
  },
  {
   "cell_type": "code",
   "execution_count": 15,
   "metadata": {},
   "outputs": [
    {
     "name": "stdout",
     "output_type": "stream",
     "text": [
      "Starting type: object\n",
      "After conversion type: datetime64[ns]\n"
     ]
    }
   ],
   "source": [
    "print \"Starting type:\", df[\"CLOSEDATE\"].dtype\n",
    "df[\"CLOSEDATE\"] = df[\"CLOSEDATE\"].apply(lambda x: pd.to_datetime(x))\n",
    "print \"After conversion type:\", df[\"CLOSEDATE\"].dtype"
   ]
  },
  {
   "cell_type": "markdown",
   "metadata": {},
   "source": [
    "### Great! Now let's say we wanted to group certain complaint types together.\n",
    "\n",
    "Specifically, we want to divide the complaint types into three categories:  \n",
    "       1. Government  \n",
    "       2. Specific Group \n",
    "       3. Everything else/Other  \n"
   ]
  },
  {
   "cell_type": "code",
   "execution_count": 8,
   "metadata": {},
   "outputs": [
    {
     "data": {
      "text/plain": [
       "array(['Transportation', 'Housing and Buildings', 'General Welfare',\n",
       "       'Youth Services', nan, 'Immigration', 'Finance',\n",
       "       'Land Use and Zoning', 'Economy/Jobs', 'Consumer Affairs',\n",
       "       'Cultural Affairs', 'Utilities', 'Sanitation', 'Education',\n",
       "       'Governmental Operations', 'Legal Services', 'Parks',\n",
       "       'Quality of Life', 'Public Safety', 'Environment', 'Health',\n",
       "       'Aging', 'Human and Civil Rights', 'Civil Service and Labor',\n",
       "       'Recovery and Resiliency', 'Consumer Complaints',\n",
       "       'Veterans Affairs', 'NYPD - NEW YORK POLICE DE',\n",
       "       'CITY CONSTRUCTION', 'Land Use', 'DOCUMENTATION', 'Select One',\n",
       "       'NYCHA', 'PENSION FORMS', 'Government', 'JURY DUTY',\n",
       "       'Please choose an issue...', 'MEETING', 'SPAM MAIL', 'SCRIE',\n",
       "       'DISPLACEMENT', 'DHS', 'PATRIOTISM', 'LEFT TURN SIGNAL', 'DWI',\n",
       "       'EVNT', 'O AND I REQ', 'INT REQ'], dtype=object)"
      ]
     },
     "execution_count": 8,
     "metadata": {},
     "output_type": "execute_result"
    }
   ],
   "source": [
    "#Let's review what we have now\n",
    "df[\"COMPLAINT_TYPE\"].unique()"
   ]
  },
  {
   "cell_type": "markdown",
   "metadata": {},
   "source": [
    "#### Let's write a (named) function for that create the following groups:  \n",
    "* \"GOVERNMENTAL OPERATIONS\", \"GOVERNMENT\" and \"NYPD - NEW YORK POLICE DE\" as Government-Related\n",
    "* \"IMMIGRATION\", \"AGING\", \"YOUTH SERVICES\" and \"VETERANS AFFAIRS\" as Specific_Group  \n",
    "* everything else as Other "
   ]
  },
  {
   "cell_type": "code",
   "execution_count": 16,
   "metadata": {
    "collapsed": true
   },
   "outputs": [],
   "source": [
    "def categories(x):\n",
    "    if (x == \"GOVERNMENTAL OPERATIONS\") or (x == \"GOVERNMENT\") or (x == \"NYPD - NEW YORK POLICE DE\"):\n",
    "        return \"Government-Related\"\n",
    "    elif (x == \"IMMIGRATION\") or (x ==\"AGING\") or (x == \"YOUTH SERVICES\") or (x == \"VETERANS AFFAIRS\"):\n",
    "        return \"Specific_Group\"\n",
    "    else:\n",
    "        return \"Other\"\n",
    "\n"
   ]
  },
  {
   "cell_type": "markdown",
   "metadata": {},
   "source": [
    "#### now let's create a new column called CATEGORY and classify each complaint type. axis=1 will allow us to apply this to the row. [Learn more](https://pandas.pydata.org/pandas-docs/stable/generated/pandas.DataFrame.apply.html\n"
   ]
  },
  {
   "cell_type": "code",
   "execution_count": 17,
   "metadata": {
    "collapsed": true
   },
   "outputs": [],
   "source": [
    "df[\"CATEGORY\"] = df.apply(lambda x: categories(x[\"COMPLAINT_TYPE\"]), axis=1)"
   ]
  },
  {
   "cell_type": "code",
   "execution_count": 18,
   "metadata": {},
   "outputs": [
    {
     "data": {
      "text/html": [
       "<div>\n",
       "<style>\n",
       "    .dataframe thead tr:only-child th {\n",
       "        text-align: right;\n",
       "    }\n",
       "\n",
       "    .dataframe thead th {\n",
       "        text-align: left;\n",
       "    }\n",
       "\n",
       "    .dataframe tbody tr th {\n",
       "        vertical-align: top;\n",
       "    }\n",
       "</style>\n",
       "<table border=\"1\" class=\"dataframe\">\n",
       "  <thead>\n",
       "    <tr style=\"text-align: right;\">\n",
       "      <th></th>\n",
       "      <th>COMPLAINT_TYPE</th>\n",
       "      <th>CATEGORY</th>\n",
       "    </tr>\n",
       "  </thead>\n",
       "  <tbody>\n",
       "    <tr>\n",
       "      <th>0</th>\n",
       "      <td>TRANSPORTATION</td>\n",
       "      <td>Other</td>\n",
       "    </tr>\n",
       "    <tr>\n",
       "      <th>1</th>\n",
       "      <td>HOUSING AND BUILDINGS</td>\n",
       "      <td>Other</td>\n",
       "    </tr>\n",
       "    <tr>\n",
       "      <th>2</th>\n",
       "      <td>GENERAL WELFARE</td>\n",
       "      <td>Other</td>\n",
       "    </tr>\n",
       "    <tr>\n",
       "      <th>3</th>\n",
       "      <td>YOUTH SERVICES</td>\n",
       "      <td>Specific_Group</td>\n",
       "    </tr>\n",
       "    <tr>\n",
       "      <th>4</th>\n",
       "      <td>NAN</td>\n",
       "      <td>Other</td>\n",
       "    </tr>\n",
       "    <tr>\n",
       "      <th>5</th>\n",
       "      <td>GENERAL WELFARE</td>\n",
       "      <td>Other</td>\n",
       "    </tr>\n",
       "    <tr>\n",
       "      <th>6</th>\n",
       "      <td>IMMIGRATION</td>\n",
       "      <td>Specific_Group</td>\n",
       "    </tr>\n",
       "    <tr>\n",
       "      <th>7</th>\n",
       "      <td>FINANCE</td>\n",
       "      <td>Other</td>\n",
       "    </tr>\n",
       "    <tr>\n",
       "      <th>8</th>\n",
       "      <td>LAND USE AND ZONING</td>\n",
       "      <td>Other</td>\n",
       "    </tr>\n",
       "    <tr>\n",
       "      <th>9</th>\n",
       "      <td>LAND USE AND ZONING</td>\n",
       "      <td>Other</td>\n",
       "    </tr>\n",
       "  </tbody>\n",
       "</table>\n",
       "</div>"
      ],
      "text/plain": [
       "          COMPLAINT_TYPE        CATEGORY\n",
       "0         TRANSPORTATION           Other\n",
       "1  HOUSING AND BUILDINGS           Other\n",
       "2        GENERAL WELFARE           Other\n",
       "3         YOUTH SERVICES  Specific_Group\n",
       "4                    NAN           Other\n",
       "5        GENERAL WELFARE           Other\n",
       "6            IMMIGRATION  Specific_Group\n",
       "7                FINANCE           Other\n",
       "8    LAND USE AND ZONING           Other\n",
       "9    LAND USE AND ZONING           Other"
      ]
     },
     "execution_count": 18,
     "metadata": {},
     "output_type": "execute_result"
    }
   ],
   "source": [
    "#Check to make sure function worked. Great!\n",
    "df[[\"COMPLAINT_TYPE\",\"CATEGORY\"]].head(10)"
   ]
  },
  {
   "cell_type": "markdown",
   "metadata": {},
   "source": [
    "#### Whoa there! Did we just combine a named function (categories) and a lambda function!?! \n",
    "Yes! This will save you from so many nested for loops.... \n",
    "\n",
    "#### Let's walk through it!\n",
    "** lambda x: categories(x[\"COMPLAINT_TYPE\"])**\n",
    "\n",
    "lambda x: **//that's the same as before**\n",
    "\n",
    "Next we're going to call the function categories that takes a parameter x   \n",
    "We're going to read in x[\"COMPLAINT_TYPE] for parameter x. \n",
    "What is x[\"COMPLAINT_TYPE\"] exactly??\n",
    "\n",
    "#### Let's add some print statements to see it in action with subset of our data"
   ]
  },
  {
   "cell_type": "code",
   "execution_count": 19,
   "metadata": {
    "collapsed": true
   },
   "outputs": [],
   "source": [
    "def categories2(x):\n",
    "    print x\n",
    "    if (x == \"GOVERNMENTAL OPERATIONS\") or (x == \"GOVERNMENT\") or (x == \"NYPD - NEW YORK POLICE DE\"):\n",
    "        return \"Government-Related\"\n",
    "    elif (x == \"IMMIGRATION\") or (x ==\"AGING\") or (x == \"YOUTH SERVICES\") or (x == \"VETERANS AFFAIRS\"):\n",
    "        return \"Specific_Group\"\n",
    "    else:\n",
    "        return \"Other\"\n",
    "\n"
   ]
  },
  {
   "cell_type": "code",
   "execution_count": 20,
   "metadata": {},
   "outputs": [
    {
     "name": "stdout",
     "output_type": "stream",
     "text": [
      "number of sampeles: 15\n"
     ]
    },
    {
     "data": {
      "text/html": [
       "<div>\n",
       "<style>\n",
       "    .dataframe thead tr:only-child th {\n",
       "        text-align: right;\n",
       "    }\n",
       "\n",
       "    .dataframe thead th {\n",
       "        text-align: left;\n",
       "    }\n",
       "\n",
       "    .dataframe tbody tr th {\n",
       "        vertical-align: top;\n",
       "    }\n",
       "</style>\n",
       "<table border=\"1\" class=\"dataframe\">\n",
       "  <thead>\n",
       "    <tr style=\"text-align: right;\">\n",
       "      <th></th>\n",
       "      <th>UNIQUE_KEY</th>\n",
       "      <th>ACCOUNT</th>\n",
       "      <th>OPENDATE</th>\n",
       "      <th>COMPLAINT_TYPE</th>\n",
       "      <th>DESCRIPTOR</th>\n",
       "      <th>ZIP</th>\n",
       "      <th>BOROUGH</th>\n",
       "      <th>CITY</th>\n",
       "      <th>COUNCIL_DIST</th>\n",
       "      <th>COMMUNITY_BOARD</th>\n",
       "      <th>CLOSEDATE</th>\n",
       "      <th>COMPLAINT_TYPE_LOWER</th>\n",
       "      <th>CATEGORY</th>\n",
       "    </tr>\n",
       "  </thead>\n",
       "  <tbody>\n",
       "    <tr>\n",
       "      <th>63087</th>\n",
       "      <td>NYCC38507904</td>\n",
       "      <td>NYCC38</td>\n",
       "      <td>2016-08-10</td>\n",
       "      <td>LAND USE AND ZONING</td>\n",
       "      <td>Zoning</td>\n",
       "      <td>11220</td>\n",
       "      <td>Brooklyn</td>\n",
       "      <td>BROOKLYN</td>\n",
       "      <td>NYCC38</td>\n",
       "      <td>07 Brooklyn</td>\n",
       "      <td>NaT</td>\n",
       "      <td>land use and zoning</td>\n",
       "      <td>Other</td>\n",
       "    </tr>\n",
       "    <tr>\n",
       "      <th>90316</th>\n",
       "      <td>NYCC08503461</td>\n",
       "      <td>NYCC08</td>\n",
       "      <td>2015-06-30</td>\n",
       "      <td>HOUSING AND BUILDINGS</td>\n",
       "      <td>NYCHA New Application</td>\n",
       "      <td>10454</td>\n",
       "      <td>Manhattan</td>\n",
       "      <td>BRONX</td>\n",
       "      <td>NYCC08</td>\n",
       "      <td>01 Manhattan</td>\n",
       "      <td>2015-06-30</td>\n",
       "      <td>housing and buildings</td>\n",
       "      <td>Other</td>\n",
       "    </tr>\n",
       "    <tr>\n",
       "      <th>106436</th>\n",
       "      <td>NYCC34514115</td>\n",
       "      <td>NYCC34</td>\n",
       "      <td>2015-01-26</td>\n",
       "      <td>FINANCE</td>\n",
       "      <td>Tax Preparation Assi</td>\n",
       "      <td>11249</td>\n",
       "      <td>Brooklyn</td>\n",
       "      <td>BROOKLYN</td>\n",
       "      <td>NYCC33</td>\n",
       "      <td>01 Brooklyn</td>\n",
       "      <td>2015-01-26</td>\n",
       "      <td>finance</td>\n",
       "      <td>Other</td>\n",
       "    </tr>\n",
       "    <tr>\n",
       "      <th>28834</th>\n",
       "      <td>NYCC10507998</td>\n",
       "      <td>NYCC10</td>\n",
       "      <td>2016-12-13</td>\n",
       "      <td>NAN</td>\n",
       "      <td>NaN</td>\n",
       "      <td>10453</td>\n",
       "      <td>Bronx</td>\n",
       "      <td>BRONX</td>\n",
       "      <td>NYCC14</td>\n",
       "      <td>05 Bronx</td>\n",
       "      <td>NaT</td>\n",
       "      <td>nan</td>\n",
       "      <td>Other</td>\n",
       "    </tr>\n",
       "    <tr>\n",
       "      <th>58704</th>\n",
       "      <td>NYCC38508088</td>\n",
       "      <td>NYCC38</td>\n",
       "      <td>2016-09-28</td>\n",
       "      <td>PARKS</td>\n",
       "      <td>NaN</td>\n",
       "      <td>1122</td>\n",
       "      <td>Brooklyn</td>\n",
       "      <td>BROOKLYN</td>\n",
       "      <td>NYCC38</td>\n",
       "      <td>07 Brooklyn</td>\n",
       "      <td>NaT</td>\n",
       "      <td>parks</td>\n",
       "      <td>Other</td>\n",
       "    </tr>\n",
       "  </tbody>\n",
       "</table>\n",
       "</div>"
      ],
      "text/plain": [
       "          UNIQUE_KEY ACCOUNT   OPENDATE         COMPLAINT_TYPE  \\\n",
       "63087   NYCC38507904  NYCC38 2016-08-10    LAND USE AND ZONING   \n",
       "90316   NYCC08503461  NYCC08 2015-06-30  HOUSING AND BUILDINGS   \n",
       "106436  NYCC34514115  NYCC34 2015-01-26                FINANCE   \n",
       "28834   NYCC10507998  NYCC10 2016-12-13                    NAN   \n",
       "58704   NYCC38508088  NYCC38 2016-09-28                  PARKS   \n",
       "\n",
       "                   DESCRIPTOR    ZIP    BOROUGH      CITY COUNCIL_DIST  \\\n",
       "63087                  Zoning  11220   Brooklyn  BROOKLYN       NYCC38   \n",
       "90316   NYCHA New Application  10454  Manhattan     BRONX       NYCC08   \n",
       "106436   Tax Preparation Assi  11249   Brooklyn  BROOKLYN       NYCC33   \n",
       "28834                     NaN  10453      Bronx     BRONX       NYCC14   \n",
       "58704                     NaN   1122   Brooklyn  BROOKLYN       NYCC38   \n",
       "\n",
       "       COMMUNITY_BOARD  CLOSEDATE   COMPLAINT_TYPE_LOWER CATEGORY  \n",
       "63087      07 Brooklyn        NaT    land use and zoning    Other  \n",
       "90316     01 Manhattan 2015-06-30  housing and buildings    Other  \n",
       "106436     01 Brooklyn 2015-01-26                finance    Other  \n",
       "28834         05 Bronx        NaT                    nan    Other  \n",
       "58704      07 Brooklyn        NaT                  parks    Other  "
      ]
     },
     "execution_count": 20,
     "metadata": {},
     "output_type": "execute_result"
    }
   ],
   "source": [
    "#creating a subset \n",
    "selection = df.sample(15, random_state=20)\n",
    "print \"number of sampeles:\", len(selection)\n",
    "selection.head()"
   ]
  },
  {
   "cell_type": "code",
   "execution_count": 21,
   "metadata": {},
   "outputs": [
    {
     "name": "stdout",
     "output_type": "stream",
     "text": [
      "LAND USE AND ZONING\n",
      "HOUSING AND BUILDINGS\n",
      "FINANCE\n",
      "NAN\n",
      "PARKS\n",
      "LAND USE AND ZONING\n",
      "PARKS\n",
      "FINANCE\n",
      "HOUSING AND BUILDINGS\n",
      "SANITATION\n",
      "HOUSING AND BUILDINGS\n",
      "GENERAL WELFARE\n",
      "HOUSING AND BUILDINGS\n",
      "PARKS\n",
      "SANITATION\n"
     ]
    }
   ],
   "source": [
    "#running the same lambda funtion on the subset, but printing x\n",
    "selection[\"CATEGORY\"] = selection.apply(lambda x: categories2(x[\"COMPLAINT_TYPE\"]), axis=1)"
   ]
  },
  {
   "cell_type": "markdown",
   "metadata": {},
   "source": [
    "#### Can you write in a sentence what this is doing?"
   ]
  },
  {
   "cell_type": "markdown",
   "metadata": {},
   "source": [
    "Answer: It's taking our subset, and applying the \"categories2\" function to it, via lambda function"
   ]
  },
  {
   "cell_type": "code",
   "execution_count": 22,
   "metadata": {},
   "outputs": [
    {
     "data": {
      "text/html": [
       "<div>\n",
       "<style>\n",
       "    .dataframe thead tr:only-child th {\n",
       "        text-align: right;\n",
       "    }\n",
       "\n",
       "    .dataframe thead th {\n",
       "        text-align: left;\n",
       "    }\n",
       "\n",
       "    .dataframe tbody tr th {\n",
       "        vertical-align: top;\n",
       "    }\n",
       "</style>\n",
       "<table border=\"1\" class=\"dataframe\">\n",
       "  <thead>\n",
       "    <tr style=\"text-align: right;\">\n",
       "      <th></th>\n",
       "      <th>COMPLAINT_TYPE</th>\n",
       "      <th>CATEGORY</th>\n",
       "    </tr>\n",
       "  </thead>\n",
       "  <tbody>\n",
       "    <tr>\n",
       "      <th>63087</th>\n",
       "      <td>LAND USE AND ZONING</td>\n",
       "      <td>Other</td>\n",
       "    </tr>\n",
       "    <tr>\n",
       "      <th>90316</th>\n",
       "      <td>HOUSING AND BUILDINGS</td>\n",
       "      <td>Other</td>\n",
       "    </tr>\n",
       "    <tr>\n",
       "      <th>106436</th>\n",
       "      <td>FINANCE</td>\n",
       "      <td>Other</td>\n",
       "    </tr>\n",
       "    <tr>\n",
       "      <th>28834</th>\n",
       "      <td>NAN</td>\n",
       "      <td>Other</td>\n",
       "    </tr>\n",
       "    <tr>\n",
       "      <th>58704</th>\n",
       "      <td>PARKS</td>\n",
       "      <td>Other</td>\n",
       "    </tr>\n",
       "    <tr>\n",
       "      <th>74201</th>\n",
       "      <td>LAND USE AND ZONING</td>\n",
       "      <td>Other</td>\n",
       "    </tr>\n",
       "    <tr>\n",
       "      <th>147582</th>\n",
       "      <td>PARKS</td>\n",
       "      <td>Other</td>\n",
       "    </tr>\n",
       "    <tr>\n",
       "      <th>109214</th>\n",
       "      <td>FINANCE</td>\n",
       "      <td>Other</td>\n",
       "    </tr>\n",
       "    <tr>\n",
       "      <th>163245</th>\n",
       "      <td>HOUSING AND BUILDINGS</td>\n",
       "      <td>Other</td>\n",
       "    </tr>\n",
       "    <tr>\n",
       "      <th>32181</th>\n",
       "      <td>SANITATION</td>\n",
       "      <td>Other</td>\n",
       "    </tr>\n",
       "    <tr>\n",
       "      <th>181524</th>\n",
       "      <td>HOUSING AND BUILDINGS</td>\n",
       "      <td>Other</td>\n",
       "    </tr>\n",
       "    <tr>\n",
       "      <th>95665</th>\n",
       "      <td>GENERAL WELFARE</td>\n",
       "      <td>Other</td>\n",
       "    </tr>\n",
       "    <tr>\n",
       "      <th>70301</th>\n",
       "      <td>HOUSING AND BUILDINGS</td>\n",
       "      <td>Other</td>\n",
       "    </tr>\n",
       "    <tr>\n",
       "      <th>127809</th>\n",
       "      <td>PARKS</td>\n",
       "      <td>Other</td>\n",
       "    </tr>\n",
       "    <tr>\n",
       "      <th>7249</th>\n",
       "      <td>SANITATION</td>\n",
       "      <td>Other</td>\n",
       "    </tr>\n",
       "  </tbody>\n",
       "</table>\n",
       "</div>"
      ],
      "text/plain": [
       "               COMPLAINT_TYPE CATEGORY\n",
       "63087     LAND USE AND ZONING    Other\n",
       "90316   HOUSING AND BUILDINGS    Other\n",
       "106436                FINANCE    Other\n",
       "28834                     NAN    Other\n",
       "58704                   PARKS    Other\n",
       "74201     LAND USE AND ZONING    Other\n",
       "147582                  PARKS    Other\n",
       "109214                FINANCE    Other\n",
       "163245  HOUSING AND BUILDINGS    Other\n",
       "32181              SANITATION    Other\n",
       "181524  HOUSING AND BUILDINGS    Other\n",
       "95665         GENERAL WELFARE    Other\n",
       "70301   HOUSING AND BUILDINGS    Other\n",
       "127809                  PARKS    Other\n",
       "7249               SANITATION    Other"
      ]
     },
     "execution_count": 22,
     "metadata": {},
     "output_type": "execute_result"
    }
   ],
   "source": [
    "#check your work\n",
    "selection[[\"COMPLAINT_TYPE\", \"CATEGORY\"]]"
   ]
  },
  {
   "cell_type": "markdown",
   "metadata": {},
   "source": [
    "### Now it's your turn! Create your own function using the \"Descriptor\" column.\n",
    "Divide them into 5 categories: \n",
    "    1. Medicaid or Food Stamps  \n",
    "    2. Immigration or Green Card or Literary Services for Immigrants  \n",
    "    3. Seeking an affordable housing/apartment, Landlord/Mangaging Agent Issues, HPD Housing Lottery, \n",
    "    4. Tree Planting/Pruning, Street Resurfacing, Construction General\n",
    "    5. Everything else/other\n",
    "\n",
    "Name them: \n",
    "    1. Benefits\n",
    "    2. Immigration, \n",
    "    3. Housing\n",
    "    4. Outside_Amenities\n",
    "    5. Other"
   ]
  },
  {
   "cell_type": "code",
   "execution_count": 25,
   "metadata": {},
   "outputs": [],
   "source": [
    "def categorizor(x):\n",
    "    if (x == \"Medicaid\") or (x == \"Food Stamps\"):\n",
    "        return \"Benefits\"\n",
    "    elif (x == \"Immigration\") or (x == \"Green Card\") or (x == \"Literary Services for Immigrants\"):\n",
    "        return \"Immigration\"\n",
    "    elif (x == \"Seeking an affordable housing/apartment\") or (x == \"Landlord/Managing Agent Issues\") or (x == \"HPD Housing Lottery\"):\n",
    "        return \"Housing\"\n",
    "    elif (x == \"Tree Planting/Pruning\") or (x == \"Street Resurfacing\") or (x == \"Construction General\"):\n",
    "        return \"Outside_Amenities\"\n",
    "    else:\n",
    "        return \"Other\"\n",
    "\n",
    "df[\"Categorizor\"] = df.apply(lambda x: categorizor(x[\"DESCRIPTOR\"]), axis = 1)\n",
    "\n"
   ]
  },
  {
   "cell_type": "code",
   "execution_count": 27,
   "metadata": {},
   "outputs": [
    {
     "data": {
      "text/plain": [
       "Other                163998\n",
       "Housing                9483\n",
       "Outside_Amenities      7496\n",
       "Immigration            5045\n",
       "Benefits               4612\n",
       "Name: Categorizor, dtype: int64"
      ]
     },
     "execution_count": 27,
     "metadata": {},
     "output_type": "execute_result"
    }
   ],
   "source": [
    "df[\"Categorizor\"].value_counts()"
   ]
  },
  {
   "cell_type": "code",
   "execution_count": 28,
   "metadata": {},
   "outputs": [
    {
     "data": {
      "text/plain": [
       "U.S. Citizenship                                6742\n",
       "Tax Preparation Assi                            5543\n",
       "Seeking an affordable housing/apartment         4885\n",
       "Street Resurfacing                              4062\n",
       "Lease Issue                                     3750\n",
       "Landlord/Managing Agent Issues                  3344\n",
       "Food Stamps                                     3235\n",
       "Misc (Wills/Court Docs/etc.)                    2917\n",
       "NYCHA Building Maintenance                      2579\n",
       "Eviction                                        2295\n",
       "SCRIE                                           2286\n",
       "NYCHA Misc.                                     2020\n",
       "NYCHA New Application                           1990\n",
       "Tree Planting/Pruning                           1919\n",
       "Green Card                                      1838\n",
       "Libraries                                       1810\n",
       "Section 8                                       1757\n",
       "Traffic Signals                                 1741\n",
       "Literary Services for Immigrants                1690\n",
       "Park Maintenance                                1654\n",
       "Building Maintenance                            1540\n",
       "Immigration                                     1517\n",
       "Construction General                            1515\n",
       "Land Use: Application/Process                   1478\n",
       "Con Edison                                      1442\n",
       "Medicaid                                        1377\n",
       "SCHE                                            1339\n",
       "Street Lights                                   1332\n",
       "Lobbying                                        1319\n",
       "Heat/Hot Water                                  1307\n",
       "                                                ... \n",
       "Medicaid Recert                                    1\n",
       "BIKE SAFETY                                        1\n",
       "LINC HRA                                           1\n",
       "LINC/FEPS                                          1\n",
       "TREATMENT                                          1\n",
       "RENTAL ASSISTANCE                                  1\n",
       "CLEAN TEAM                                         1\n",
       "BANK FEE                                           1\n",
       "LIGHTING                                           1\n",
       "LACK OF PARKING AND ILLEGAL STREET MECHANICS       1\n",
       "OPINION                                            1\n",
       "ANIMAL CONTROL                                     1\n",
       "RESTAURANT INSPECTION                              1\n",
       "COMMISSIONER OF DEEDS                              1\n",
       "SICK LEAVE                                         1\n",
       "VETERANS TAX EXEMPTION                             1\n",
       "VICTIM RELIEF                                      1\n",
       "SUSPICIOUS VEHICLE                                 1\n",
       "TAX FRAUD                                          1\n",
       "HOA                                                1\n",
       "PETITIONS                                          1\n",
       "SCHOOL AC                                          1\n",
       "BASEBALL NETTING                                   1\n",
       "DSS                                                1\n",
       "Trees Sidewalk Prog                                1\n",
       "COURTS                                             1\n",
       "PAROLE                                             1\n",
       "PRIVATE STREETS                                    1\n",
       "Curb COndition                                     1\n",
       "UNIFORMED APPLICATION PROCESS                      1\n",
       "Name: DESCRIPTOR, Length: 844, dtype: int64"
      ]
     },
     "execution_count": 28,
     "metadata": {},
     "output_type": "execute_result"
    }
   ],
   "source": [
    "#Use .value_counts() and .unique() methods to help with spelling errors etc. \n",
    "df[\"DESCRIPTOR\"].value_counts()"
   ]
  },
  {
   "cell_type": "code",
   "execution_count": 23,
   "metadata": {
    "scrolled": true
   },
   "outputs": [
    {
     "data": {
      "text/plain": [
       "U.S. Citizenship                                6406\n",
       "Tax Preparation Assi                            5286\n",
       "Seeking an affordable housing/apartment         4457\n",
       "Food Stamps                                     3037\n",
       "Street Resurfacing                              2986\n",
       "Landlord/Managing Agent Issues                  2939\n",
       "Lease Issue                                     2630\n",
       "Misc (Wills/Court Docs/etc.)                    2585\n",
       "NYCHA Building Maintenance                      2156\n",
       "Eviction                                        2067\n",
       "SCRIE                                           1995\n",
       "NYCHA New Application                           1850\n",
       "Libraries                                       1790\n",
       "Green Card                                      1742\n",
       "NYCHA Misc.                                     1680\n",
       "Literary Services for Immigrants                1652\n",
       "Tree Planting/Pruning                           1643\n",
       "Section 8                                       1622\n",
       "Immigration                                     1475\n",
       "Land Use: Application/Process                   1415\n",
       "Park Maintenance                                1389\n",
       "Construction General                            1337\n",
       "Lobbying                                        1292\n",
       "Building Maintenance                            1281\n",
       "Medicaid                                        1242\n",
       "Con Edison                                      1237\n",
       "Heat/Hot Water                                  1189\n",
       "HPD Housing Lottery                             1181\n",
       "Traffic Signals                                 1179\n",
       "Voting Information                              1163\n",
       "                                                ... \n",
       "VETERANS TAX EXEMPTION                             1\n",
       "SEXUAL CRIME                                       1\n",
       "PERMITS                                            1\n",
       "FRAUD                                              1\n",
       "Nextel                                             1\n",
       "CONTRACTOR LICENSE                                 1\n",
       "REAL ESTATE INTEREST                               1\n",
       "LIGHTING                                           1\n",
       "LACK OF PARKING AND ILLEGAL STREET MECHANICS       1\n",
       "SECURITY CAMERAS                                   1\n",
       "ANIMAL CONTROL                                     1\n",
       "Medicaid Recert                                    1\n",
       "BIKE SAFETY                                        1\n",
       "COMMISSIONER OF DEEDS                              1\n",
       "LINC HRA                                           1\n",
       "VICTIM RELIEF                                      1\n",
       "LINC/FEPS                                          1\n",
       "TREATMENT                                          1\n",
       "RENTAL ASSISTANCE                                  1\n",
       "CLEAN TEAM                                         1\n",
       "BASEBALL NETTING                                   1\n",
       "OPINION                                            1\n",
       "Trees Sidewalk Prog                                1\n",
       "COURTS                                             1\n",
       "RESTAURANT INSPECTION                              1\n",
       "PAROLE                                             1\n",
       "COMMERCIAL                                         1\n",
       "Helicopters                                        1\n",
       "SICK LEAVE                                         1\n",
       "DOG WASTE                                          1\n",
       "Name: DESCRIPTOR, Length: 807, dtype: int64"
      ]
     },
     "execution_count": 23,
     "metadata": {},
     "output_type": "execute_result"
    }
   ],
   "source": [
    "#check your work!\n",
    "df[\"DESCRIPTOR\"].value_counts()"
   ]
  },
  {
   "cell_type": "markdown",
   "metadata": {},
   "source": [
    "### Great job!  Below is a bonus excerise using data times! \n",
    "Create new column, \"Complaints_Duration\", \n",
    "which subtracts\"Closed Date\" column from \"Open Date\" to see how many days it takes to get complaints resolved"
   ]
  },
  {
   "cell_type": "code",
   "execution_count": 42,
   "metadata": {},
   "outputs": [
    {
     "data": {
      "text/plain": [
       "0   3 days\n",
       "1   0 days\n",
       "2   0 days\n",
       "3      NaT\n",
       "4      NaT\n",
       "Name: COMPLAINTS_DURATION, dtype: timedelta64[ns]"
      ]
     },
     "execution_count": 42,
     "metadata": {},
     "output_type": "execute_result"
    }
   ],
   "source": [
    "df[\"COMPLAINTS_DURATION\"] = df[\"CLOSEDATE\"] - df[\"OPENDATE\"]\n",
    "df[\"COMPLAINTS_DURATION\"].head()"
   ]
  },
  {
   "cell_type": "code",
   "execution_count": 43,
   "metadata": {},
   "outputs": [
    {
     "data": {
      "text/plain": [
       "count                      164678\n",
       "mean      50 days 07:42:00.424100\n",
       "std      122 days 18:04:12.749480\n",
       "min               0 days 00:00:00\n",
       "25%               0 days 00:00:00\n",
       "50%               5 days 00:00:00\n",
       "75%              41 days 00:00:00\n",
       "max            1327 days 00:00:00\n",
       "Name: COMPLAINTS_DURATION, dtype: object"
      ]
     },
     "execution_count": 43,
     "metadata": {},
     "output_type": "execute_result"
    }
   ],
   "source": [
    "df[\"COMPLAINTS_DURATION\"].describe()"
   ]
  },
  {
   "cell_type": "code",
   "execution_count": 44,
   "metadata": {},
   "outputs": [
    {
     "data": {
      "text/plain": [
       "dtype('<m8[ns]')"
      ]
     },
     "execution_count": 44,
     "metadata": {},
     "output_type": "execute_result"
    }
   ],
   "source": [
    "pd.to_timedelta(df[\"COMPLAINTS_DURATION\"])\n",
    "df[\"COMPLAINTS_DURATION\"].dtype"
   ]
  },
  {
   "cell_type": "markdown",
   "metadata": {},
   "source": [
    "#### learn more about time deltas here! \n",
    "https://pandas.pydata.org/pandas-docs/stable/timedeltas.html"
   ]
  },
  {
   "cell_type": "code",
   "execution_count": 33,
   "metadata": {},
   "outputs": [
    {
     "data": {
      "text/plain": [
       "0   3 days\n",
       "1   0 days\n",
       "2   0 days\n",
       "3      NaT\n",
       "4      NaT\n",
       "Name: COMPLAINTS_DURATION, dtype: timedelta64[ns]"
      ]
     },
     "execution_count": 33,
     "metadata": {},
     "output_type": "execute_result"
    }
   ],
   "source": [
    "# df[\"COMPLAINTS_DURATION\"] = df[\"COMPLAINTS_DURATION\"]\n",
    "df[\"COMPLAINTS_DURATION\"].head()"
   ]
  },
  {
   "cell_type": "code",
   "execution_count": 52,
   "metadata": {},
   "outputs": [],
   "source": [
    "#Now create a column using a lambda function which indicates \"duration ranges\", 0-30 days, 31-60 days, 60-90 days, 90+ days\n",
    "\n",
    "def duration_ranges(x):\n",
    "    if (x < 30):\n",
    "        return \"One_Month\"\n",
    "    elif (30 < x < 60):\n",
    "        return \"Two_Months\"\n",
    "    elif (60 < x < 90):\n",
    "        return \"Three_Months\"\n",
    "    elif (90 < x):\n",
    "        return \"More than Three Months\"\n",
    "    else:\n",
    "        return \"Unknown\"\n",
    "    \n",
    "    \n",
    "    \n"
   ]
  },
  {
   "cell_type": "code",
   "execution_count": 53,
   "metadata": {},
   "outputs": [],
   "source": [
    "df[\"Duration_Ranges\"] = df.apply(lambda x: duration_ranges(x[\"COMPLAINTS_DURATION\"].days), axis=1)"
   ]
  },
  {
   "cell_type": "code",
   "execution_count": 54,
   "metadata": {},
   "outputs": [
    {
     "data": {
      "text/html": [
       "<div>\n",
       "<style>\n",
       "    .dataframe thead tr:only-child th {\n",
       "        text-align: right;\n",
       "    }\n",
       "\n",
       "    .dataframe thead th {\n",
       "        text-align: left;\n",
       "    }\n",
       "\n",
       "    .dataframe tbody tr th {\n",
       "        vertical-align: top;\n",
       "    }\n",
       "</style>\n",
       "<table border=\"1\" class=\"dataframe\">\n",
       "  <thead>\n",
       "    <tr style=\"text-align: right;\">\n",
       "      <th></th>\n",
       "      <th>COMPLAINTS_DURATION</th>\n",
       "      <th>Duration_Ranges</th>\n",
       "    </tr>\n",
       "  </thead>\n",
       "  <tbody>\n",
       "    <tr>\n",
       "      <th>0</th>\n",
       "      <td>3 days</td>\n",
       "      <td>One_Month</td>\n",
       "    </tr>\n",
       "    <tr>\n",
       "      <th>1</th>\n",
       "      <td>0 days</td>\n",
       "      <td>One_Month</td>\n",
       "    </tr>\n",
       "    <tr>\n",
       "      <th>2</th>\n",
       "      <td>0 days</td>\n",
       "      <td>One_Month</td>\n",
       "    </tr>\n",
       "    <tr>\n",
       "      <th>3</th>\n",
       "      <td>NaT</td>\n",
       "      <td>Unknown</td>\n",
       "    </tr>\n",
       "    <tr>\n",
       "      <th>4</th>\n",
       "      <td>NaT</td>\n",
       "      <td>Unknown</td>\n",
       "    </tr>\n",
       "    <tr>\n",
       "      <th>5</th>\n",
       "      <td>NaT</td>\n",
       "      <td>Unknown</td>\n",
       "    </tr>\n",
       "    <tr>\n",
       "      <th>6</th>\n",
       "      <td>0 days</td>\n",
       "      <td>One_Month</td>\n",
       "    </tr>\n",
       "    <tr>\n",
       "      <th>7</th>\n",
       "      <td>291 days</td>\n",
       "      <td>More than Three Months</td>\n",
       "    </tr>\n",
       "    <tr>\n",
       "      <th>8</th>\n",
       "      <td>0 days</td>\n",
       "      <td>One_Month</td>\n",
       "    </tr>\n",
       "    <tr>\n",
       "      <th>9</th>\n",
       "      <td>3 days</td>\n",
       "      <td>One_Month</td>\n",
       "    </tr>\n",
       "  </tbody>\n",
       "</table>\n",
       "</div>"
      ],
      "text/plain": [
       "  COMPLAINTS_DURATION         Duration_Ranges\n",
       "0              3 days               One_Month\n",
       "1              0 days               One_Month\n",
       "2              0 days               One_Month\n",
       "3                 NaT                 Unknown\n",
       "4                 NaT                 Unknown\n",
       "5                 NaT                 Unknown\n",
       "6              0 days               One_Month\n",
       "7            291 days  More than Three Months\n",
       "8              0 days               One_Month\n",
       "9              3 days               One_Month"
      ]
     },
     "execution_count": 54,
     "metadata": {},
     "output_type": "execute_result"
    }
   ],
   "source": [
    "df[[\"COMPLAINTS_DURATION\",\"Duration_Ranges\"]].head(10)"
   ]
  },
  {
   "cell_type": "markdown",
   "metadata": {},
   "source": [
    "### Note that the function is classifying \"N/A's\" as \"More Than Three Months.\"\n",
    "#### Bonus! Fix that! "
   ]
  },
  {
   "cell_type": "markdown",
   "metadata": {
    "collapsed": true
   },
   "source": [
    "### Learn more about lambda functions here:\n",
    "https://community.modeanalytics.com/python/tutorial/pandas-groupby-and-python-lambda-functions/"
   ]
  }
 ],
 "metadata": {
  "anaconda-cloud": {},
  "kernelspec": {
   "display_name": "Python 2",
   "language": "python",
   "name": "python2"
  },
  "language_info": {
   "codemirror_mode": {
    "name": "ipython",
    "version": 2
   },
   "file_extension": ".py",
   "mimetype": "text/x-python",
   "name": "python",
   "nbconvert_exporter": "python",
   "pygments_lexer": "ipython2",
   "version": "2.7.14"
  }
 },
 "nbformat": 4,
 "nbformat_minor": 1
}
