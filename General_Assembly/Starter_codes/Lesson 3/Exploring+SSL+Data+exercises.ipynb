{
 "cells": [
  {
   "cell_type": "code",
   "execution_count": 1,
   "metadata": {
    "collapsed": true
   },
   "outputs": [],
   "source": [
    "import pandas as pd\n",
    "import numpy as np\n",
    "\n",
    "pd.set_option('display.max_rows', 999)\n",
    "pd.set_option('display.max_columns', 999)\n",
    "\n",
    "pd.set_option('display.float_format', lambda x: '%.3f' % x)\n",
    "\n",
    "import matplotlib.pyplot as plt\n",
    "%matplotlib inline"
   ]
  },
  {
   "cell_type": "code",
   "execution_count": 2,
   "metadata": {},
   "outputs": [
    {
     "name": "stderr",
     "output_type": "stream",
     "text": [
      "/anaconda2/lib/python2.7/site-packages/IPython/core/interactiveshell.py:2718: DtypeWarning: Columns (47) have mixed types. Specify dtype option on import or set low_memory=False.\n",
      "  interactivity=interactivity, compiler=compiler, result=result)\n"
     ]
    }
   ],
   "source": [
    "#Download and import the following data set, then answer the following questions!\n",
    "#https://data.cityofchicago.org/Public-Safety/Strategic-Subject-List/4aki-r3np/data\n",
    "df = pd.read_csv(\"../../assets/Strategic_Subject_List.csv\")"
   ]
  },
  {
   "cell_type": "code",
   "execution_count": 3,
   "metadata": {},
   "outputs": [
    {
     "data": {
      "text/plain": [
       "(398684, 48)"
      ]
     },
     "execution_count": 3,
     "metadata": {},
     "output_type": "execute_result"
    }
   ],
   "source": [
    "#How many records are in the data?\n",
    "df.shape"
   ]
  },
  {
   "cell_type": "code",
   "execution_count": 4,
   "metadata": {},
   "outputs": [
    {
     "data": {
      "text/plain": [
       "SSL SCORE                                        0\n",
       "PREDICTOR RAT AGE AT LATEST ARREST             102\n",
       "PREDICTOR RAT VICTIM SHOOTING INCIDENTS          0\n",
       "PREDICTOR RAT VICTIM BATTERY OR ASSAULT          0\n",
       "PREDICTOR RAT ARRESTS VIOLENT OFFENSES           0\n",
       "PREDICTOR RAT GANG AFFILIATION                   0\n",
       "PREDICTOR RAT NARCOTIC ARRESTS                   0\n",
       "PREDICTOR RAT TREND IN CRIMINAL ACTIVITY         0\n",
       "PREDICTOR RAT UUW ARRESTS                        0\n",
       "SEX CODE CD                                      0\n",
       "RACE CODE CD                                     0\n",
       "WEAPON I                                         0\n",
       "DRUG I                                           0\n",
       "AGE GROUP                                      153\n",
       "AGE TO                                         153\n",
       "STOP ORDER NO                               397027\n",
       "PAROLEE I                                   385600\n",
       "LATEST DATE                                      0\n",
       "LATEST DIST                                      0\n",
       "MAJORITY DIST                               146014\n",
       "DLST                                        339724\n",
       "LATEST DIST RES                                  0\n",
       "WEAPONS ARR CNT                             379537\n",
       "LATEST WEAPON ARR DATE                      379537\n",
       "NARCOTICS ARR CNT                           305877\n",
       "LATEST NARCOTIC ARR DATE                    305877\n",
       "IDOC RES CITY                               339741\n",
       "IDOC RES STATE CODE                         339739\n",
       "IDOC RES ZIP CODE                           340417\n",
       "IDOC CPD DIST                               387462\n",
       "CPD ARREST I                                     0\n",
       "DOMESTIC ARR CNT                            330558\n",
       "LATEST DOMESTIC ARR DATE                    330558\n",
       "AGE CURR                                       241\n",
       "SSL LAST PTV DATE                           384490\n",
       "TRAP STATUS                                 395566\n",
       "RAW SSL SCORE                                    0\n",
       "HEAT SCORE                                       0\n",
       "RAW_HEAT_SCORE                                   0\n",
       "STATUS I                                         0\n",
       "PRE RAW HEAT SCORE                               0\n",
       "TRAP FLAGS                                  398579\n",
       "SSL FLAGS                                   398236\n",
       "LATITUDE                                    174449\n",
       "LONGITUDE                                   174449\n",
       "CENSUS TRACT                                170921\n",
       "COMMUNITY AREA                                   0\n",
       "LOCATION                                    174449\n",
       "dtype: int64"
      ]
     },
     "execution_count": 4,
     "metadata": {},
     "output_type": "execute_result"
    }
   ],
   "source": [
    "#Which predictors/variables (columns) are missing values?\n",
    "df.isnull().sum()"
   ]
  },
  {
   "cell_type": "code",
   "execution_count": 32,
   "metadata": {},
   "outputs": [
    {
     "data": {
      "text/html": [
       "<div>\n",
       "<style>\n",
       "    .dataframe thead tr:only-child th {\n",
       "        text-align: right;\n",
       "    }\n",
       "\n",
       "    .dataframe thead th {\n",
       "        text-align: left;\n",
       "    }\n",
       "\n",
       "    .dataframe tbody tr th {\n",
       "        vertical-align: top;\n",
       "    }\n",
       "</style>\n",
       "<table border=\"1\" class=\"dataframe\">\n",
       "  <thead>\n",
       "    <tr style=\"text-align: right;\">\n",
       "      <th></th>\n",
       "      <th>SSL SCORE</th>\n",
       "      <th>SEX CODE CD</th>\n",
       "      <th>RACE CODE CD</th>\n",
       "      <th>PREDICTOR RAT AGE AT LATEST ARREST</th>\n",
       "      <th>IDOC RES CITY</th>\n",
       "      <th>PREDICTOR RAT AGE AT LATEST ARREST</th>\n",
       "    </tr>\n",
       "  </thead>\n",
       "  <tbody>\n",
       "    <tr>\n",
       "      <th>0</th>\n",
       "      <td>500</td>\n",
       "      <td>M</td>\n",
       "      <td>BLK</td>\n",
       "      <td>20-30</td>\n",
       "      <td>SKOKIE</td>\n",
       "      <td>20-30</td>\n",
       "    </tr>\n",
       "    <tr>\n",
       "      <th>1</th>\n",
       "      <td>500</td>\n",
       "      <td>M</td>\n",
       "      <td>WHI</td>\n",
       "      <td>20-30</td>\n",
       "      <td>NaN</td>\n",
       "      <td>20-30</td>\n",
       "    </tr>\n",
       "    <tr>\n",
       "      <th>2</th>\n",
       "      <td>500</td>\n",
       "      <td>M</td>\n",
       "      <td>WHI</td>\n",
       "      <td>less than 20</td>\n",
       "      <td>NaN</td>\n",
       "      <td>less than 20</td>\n",
       "    </tr>\n",
       "    <tr>\n",
       "      <th>3</th>\n",
       "      <td>500</td>\n",
       "      <td>M</td>\n",
       "      <td>BLK</td>\n",
       "      <td>less than 20</td>\n",
       "      <td>NaN</td>\n",
       "      <td>less than 20</td>\n",
       "    </tr>\n",
       "    <tr>\n",
       "      <th>4</th>\n",
       "      <td>500</td>\n",
       "      <td>M</td>\n",
       "      <td>BLK</td>\n",
       "      <td>less than 20</td>\n",
       "      <td>NaN</td>\n",
       "      <td>less than 20</td>\n",
       "    </tr>\n",
       "  </tbody>\n",
       "</table>\n",
       "</div>"
      ],
      "text/plain": [
       "   SSL SCORE SEX CODE CD RACE CODE CD PREDICTOR RAT AGE AT LATEST ARREST  \\\n",
       "0        500           M          BLK                              20-30   \n",
       "1        500           M          WHI                              20-30   \n",
       "2        500           M          WHI                       less than 20   \n",
       "3        500           M          BLK                       less than 20   \n",
       "4        500           M          BLK                       less than 20   \n",
       "\n",
       "  IDOC RES CITY PREDICTOR RAT AGE AT LATEST ARREST  \n",
       "0        SKOKIE                              20-30  \n",
       "1           NaN                              20-30  \n",
       "2           NaN                       less than 20  \n",
       "3           NaN                       less than 20  \n",
       "4           NaN                       less than 20  "
      ]
     },
     "execution_count": 32,
     "metadata": {},
     "output_type": "execute_result"
    }
   ],
   "source": [
    "#let's drop the variables that are missing a ton of data\n",
    "df2= df[[\"SSL SCORE\", \"SEX CODE CD\", \"RACE CODE CD\", \"PREDICTOR RAT AGE AT LATEST ARREST\", \"IDOC RES CITY\", \"PREDICTOR RAT AGE AT LATEST ARREST\"]]\n",
    "df2.head()"
   ]
  },
  {
   "cell_type": "code",
   "execution_count": 10,
   "metadata": {},
   "outputs": [
    {
     "data": {
      "text/plain": [
       "count   398684.000\n",
       "mean       279.840\n",
       "std         57.996\n",
       "min         10.000\n",
       "25%        242.000\n",
       "50%        289.000\n",
       "75%        322.000\n",
       "max        500.000\n",
       "Name: SSL SCORE, dtype: float64"
      ]
     },
     "execution_count": 10,
     "metadata": {},
     "output_type": "execute_result"
    }
   ],
   "source": [
    "#What is the average SSL score? The max SSL score? The min SSL score?\n",
    "df2[\"SSL SCORE\"].describe()"
   ]
  },
  {
   "cell_type": "code",
   "execution_count": 13,
   "metadata": {},
   "outputs": [
    {
     "data": {
      "text/plain": [
       "<matplotlib.axes._subplots.AxesSubplot at 0x10f6b82d0>"
      ]
     },
     "execution_count": 13,
     "metadata": {},
     "output_type": "execute_result"
    },
    {
     "data": {
      "image/png": "[encoded data removed]",
      "text/plain": [
       "<matplotlib.figure.Figure at 0x10eca93d0>"
      ]
     },
     "metadata": {},
     "output_type": "display_data"
    }
   ],
   "source": [
    "#What is the distribution of the SSL scores?\n",
    "df2[\"SSL SCORE\"].hist()"
   ]
  },
  {
   "cell_type": "code",
   "execution_count": 16,
   "metadata": {},
   "outputs": [
    {
     "data": {
      "text/plain": [
       "<matplotlib.axes._subplots.AxesSubplot at 0x10ec904d0>"
      ]
     },
     "execution_count": 16,
     "metadata": {},
     "output_type": "execute_result"
    },
    {
     "data": {
      "image/png": "[encoded data removed]",
      "text/plain": [
       "<matplotlib.figure.Figure at 0x10ed96490>"
      ]
     },
     "metadata": {},
     "output_type": "display_data"
    }
   ],
   "source": [
    "df2.boxplot(column = \"SSL SCORE\")"
   ]
  },
  {
   "cell_type": "code",
   "execution_count": 18,
   "metadata": {},
   "outputs": [
    {
     "data": {
      "text/plain": [
       "0    500\n",
       "1    500\n",
       "2    500\n",
       "3    500\n",
       "4    500\n",
       "Name: SSL SCORE, dtype: int64"
      ]
     },
     "execution_count": 18,
     "metadata": {},
     "output_type": "execute_result"
    }
   ],
   "source": [
    "#How do we simply view the \"SSL Score\" columns?\n",
    "df2[\"SSL SCORE\"].head()"
   ]
  },
  {
   "cell_type": "code",
   "execution_count": 19,
   "metadata": {},
   "outputs": [
    {
     "data": {
      "text/plain": [
       "0     500\n",
       "1     500\n",
       "2     500\n",
       "3     500\n",
       "4     500\n",
       "5     500\n",
       "6     498\n",
       "7     497\n",
       "8     495\n",
       "9     495\n",
       "10    489\n",
       "11    488\n",
       "12    487\n",
       "13    485\n",
       "14    483\n",
       "15    481\n",
       "16    480\n",
       "17    476\n",
       "18    475\n",
       "19    473\n",
       "20    472\n",
       "21    472\n",
       "22    471\n",
       "23    471\n",
       "24    470\n",
       "25    467\n",
       "26    467\n",
       "27    467\n",
       "28    466\n",
       "29    463\n",
       "30    462\n",
       "31    462\n",
       "32    460\n",
       "33    458\n",
       "34    455\n",
       "35    455\n",
       "36    454\n",
       "37    454\n",
       "38    453\n",
       "39    453\n",
       "40    452\n",
       "41    450\n",
       "42    449\n",
       "43    448\n",
       "44    447\n",
       "45    447\n",
       "46    446\n",
       "47    446\n",
       "48    445\n",
       "49    445\n",
       "Name: SSL SCORE, dtype: int64"
      ]
     },
     "execution_count": 19,
     "metadata": {},
     "output_type": "execute_result"
    }
   ],
   "source": [
    "#What about the first fifty columns?\n",
    "df2[\"SSL SCORE\"].head(50)"
   ]
  },
  {
   "cell_type": "code",
   "execution_count": 20,
   "metadata": {},
   "outputs": [
    {
     "data": {
      "text/plain": [
       "398634    254\n",
       "398635    254\n",
       "398636    251\n",
       "398637    251\n",
       "398638    250\n",
       "398639    250\n",
       "398640    250\n",
       "398641    246\n",
       "398642    246\n",
       "398643    243\n",
       "398644    238\n",
       "398645    234\n",
       "398646    233\n",
       "398647    232\n",
       "398648    232\n",
       "398649    232\n",
       "398650    228\n",
       "398651    227\n",
       "398652    227\n",
       "398653    226\n",
       "398654    225\n",
       "398655    225\n",
       "398656    222\n",
       "398657    220\n",
       "398658    215\n",
       "398659    211\n",
       "398660    210\n",
       "398661    210\n",
       "398662    206\n",
       "398663    193\n",
       "398664    192\n",
       "398665    188\n",
       "398666    183\n",
       "398667    175\n",
       "398668    174\n",
       "398669    170\n",
       "398670    168\n",
       "398671    147\n",
       "398672    134\n",
       "398673    134\n",
       "398674    129\n",
       "398675    329\n",
       "398676    308\n",
       "398677    304\n",
       "398678    333\n",
       "398679    310\n",
       "398680    269\n",
       "398681     86\n",
       "398682    245\n",
       "398683    321\n",
       "Name: SSL SCORE, dtype: int64"
      ]
     },
     "execution_count": 20,
     "metadata": {},
     "output_type": "execute_result"
    }
   ],
   "source": [
    "#What about the fifty LOWEST scores?\n",
    "df2[\"SSL SCORE\"].tail(50)"
   ]
  },
  {
   "cell_type": "code",
   "execution_count": 21,
   "metadata": {},
   "outputs": [
    {
     "data": {
      "text/html": [
       "<div>\n",
       "<style>\n",
       "    .dataframe thead tr:only-child th {\n",
       "        text-align: right;\n",
       "    }\n",
       "\n",
       "    .dataframe thead th {\n",
       "        text-align: left;\n",
       "    }\n",
       "\n",
       "    .dataframe tbody tr th {\n",
       "        vertical-align: top;\n",
       "    }\n",
       "</style>\n",
       "<table border=\"1\" class=\"dataframe\">\n",
       "  <thead>\n",
       "    <tr style=\"text-align: right;\">\n",
       "      <th></th>\n",
       "      <th>SSL SCORE</th>\n",
       "      <th>SEX CODE CD</th>\n",
       "      <th>RACE CODE CD</th>\n",
       "    </tr>\n",
       "  </thead>\n",
       "  <tbody>\n",
       "    <tr>\n",
       "      <th>0</th>\n",
       "      <td>500</td>\n",
       "      <td>M</td>\n",
       "      <td>BLK</td>\n",
       "    </tr>\n",
       "    <tr>\n",
       "      <th>1</th>\n",
       "      <td>500</td>\n",
       "      <td>M</td>\n",
       "      <td>WHI</td>\n",
       "    </tr>\n",
       "    <tr>\n",
       "      <th>2</th>\n",
       "      <td>500</td>\n",
       "      <td>M</td>\n",
       "      <td>WHI</td>\n",
       "    </tr>\n",
       "    <tr>\n",
       "      <th>3</th>\n",
       "      <td>500</td>\n",
       "      <td>M</td>\n",
       "      <td>BLK</td>\n",
       "    </tr>\n",
       "    <tr>\n",
       "      <th>4</th>\n",
       "      <td>500</td>\n",
       "      <td>M</td>\n",
       "      <td>BLK</td>\n",
       "    </tr>\n",
       "  </tbody>\n",
       "</table>\n",
       "</div>"
      ],
      "text/plain": [
       "   SSL SCORE SEX CODE CD RACE CODE CD\n",
       "0        500           M          BLK\n",
       "1        500           M          WHI\n",
       "2        500           M          WHI\n",
       "3        500           M          BLK\n",
       "4        500           M          BLK"
      ]
     },
     "execution_count": 21,
     "metadata": {},
     "output_type": "execute_result"
    }
   ],
   "source": [
    "#What about SSL Score, Sex Code CD and Race Code CD?\n",
    "df[[\"SSL SCORE\", \"SEX CODE CD\", \"RACE CODE CD\"]].head()"
   ]
  },
  {
   "cell_type": "code",
   "execution_count": 23,
   "metadata": {},
   "outputs": [
    {
     "data": {
      "text/plain": [
       "array(['BLK', 'WHI', 'WWH', 'API', 'WBH', 'U', 'I'], dtype=object)"
      ]
     },
     "execution_count": 23,
     "metadata": {},
     "output_type": "execute_result"
    }
   ],
   "source": [
    "#What are the different race categories?\n",
    "df[\"RACE CODE CD\"].unique()"
   ]
  },
  {
   "cell_type": "code",
   "execution_count": 29,
   "metadata": {},
   "outputs": [
    {
     "data": {
      "text/plain": [
       "BLK    207842\n",
       "WWH     99710\n",
       "WHI     82366\n",
       "API      4617\n",
       "WBH      1974\n",
       "U        1899\n",
       "I         276\n",
       "Name: RACE CODE CD, dtype: int64"
      ]
     },
     "execution_count": 29,
     "metadata": {},
     "output_type": "execute_result"
    }
   ],
   "source": [
    "#How can we know the counts of each race?\n",
    "df[\"RACE CODE CD\"].value_counts()"
   ]
  },
  {
   "cell_type": "code",
   "execution_count": 31,
   "metadata": {},
   "outputs": [
    {
     "data": {
      "text/plain": [
       "190"
      ]
     },
     "execution_count": 31,
     "metadata": {},
     "output_type": "execute_result"
    }
   ],
   "source": [
    "#How many black women had an SSL SCORE of 400 or more?\n",
    "len(df2[(df2[\"RACE CODE CD\"] == \"BLK\") & (df2[\"SEX CODE CD\"] == \"F\") & (df2[\"SSL SCORE\"] > 400)])\n"
   ]
  },
  {
   "cell_type": "code",
   "execution_count": 38,
   "metadata": {},
   "outputs": [
    {
     "data": {
      "text/plain": [
       "450"
      ]
     },
     "execution_count": 38,
     "metadata": {},
     "output_type": "execute_result"
    }
   ],
   "source": [
    "#How many Asian/Pacific Islander males under 20 were victims of shooting incidents?\n",
    "len(df[(df[\"RACE CODE CD\"] == \"API\") & (df[\"SEX CODE CD\"] == \"M\") & (df[\"PREDICTOR RAT AGE AT LATEST ARREST\"] == \"less than 20\")])"
   ]
  },
  {
   "cell_type": "code",
   "execution_count": 39,
   "metadata": {},
   "outputs": [
    {
     "data": {
      "text/plain": [
       "551"
      ]
     },
     "execution_count": 39,
     "metadata": {},
     "output_type": "execute_result"
    }
   ],
   "source": [
    "#How do we find out how many people on SSL are from the suburbs listed below?\n",
    "\n",
    "#\"SKOKIE\",\"WILMETTE\",\"EVANSTON\",\"DES PLAINES\",\"PALATINE\",\"ARLINGTON HTS\",\"SCHAUMBERG\"\n",
    "\n",
    "burbs = [\"SKOKIE\",\"WILMETTE\",\"EVANSTON\",\"DES PLAINES\",\"PALATINE\",\"ARLINGTON HTS\",\"SCHAUMBERG\"]\n",
    "\n",
    "len(df[(df[\"IDOC RES CITY\"].isin(burbs))])"
   ]
  },
  {
   "cell_type": "code",
   "execution_count": 41,
   "metadata": {
    "collapsed": true
   },
   "outputs": [],
   "source": [
    "#How do we create a column that flags senior citizens with scores less than 450?\n",
    "#Hint! First write a function then pair it with a lambda function\n",
    "\n",
    "def seniors_crime_flag(x,y):\n",
    "    if (x == \"70-80\") & (y < 450):\n",
    "        return 1\n",
    "    elif (x == \"60-70\") & (y < 450):\n",
    "        return 1\n",
    "    else:\n",
    "        return 0"
   ]
  },
  {
   "cell_type": "code",
   "execution_count": 42,
   "metadata": {
    "collapsed": true
   },
   "outputs": [],
   "source": [
    "df[\"SENIOR_CRIME_FLAG\"] = df.apply(lambda x: seniors_crime_flag(x[\"PREDICTOR RAT AGE AT LATEST ARREST\"], x[\"SSL SCORE\"]), axis=1)"
   ]
  },
  {
   "cell_type": "code",
   "execution_count": 43,
   "metadata": {},
   "outputs": [
    {
     "data": {
      "text/plain": [
       "8819L"
      ]
     },
     "execution_count": 43,
     "metadata": {},
     "output_type": "execute_result"
    }
   ],
   "source": [
    "df[\"SENIOR_CRIME_FLAG\"].sum()"
   ]
  },
  {
   "cell_type": "code",
   "execution_count": null,
   "metadata": {
    "collapsed": true
   },
   "outputs": [],
   "source": []
  }
 ],
 "metadata": {
  "anaconda-cloud": {},
  "kernelspec": {
   "display_name": "Python 2",
   "language": "python",
   "name": "python2"
  },
  "language_info": {
   "codemirror_mode": {
    "name": "ipython",
    "version": 2
   },
   "file_extension": ".py",
   "mimetype": "text/x-python",
   "name": "python",
   "nbconvert_exporter": "python",
   "pygments_lexer": "ipython2",
   "version": "2.7.14"
  }
 },
 "nbformat": 4,
 "nbformat_minor": 1
}
